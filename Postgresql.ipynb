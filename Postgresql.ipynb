{
 "cells": [
  {
   "cell_type": "code",
   "execution_count": 1,
   "id": "35a8b96c",
   "metadata": {},
   "outputs": [],
   "source": [
    "#pip install psycopg2\n",
    "import numpy as np\n",
    "import pandas as pd\n",
    "import matplotlib.pyplot as plt\n",
    "import psycopg2\n",
    "from sqlalchemy import create_engine"
   ]
  },
  {
   "cell_type": "markdown",
   "id": "7a493da1",
   "metadata": {},
   "source": [
    "### Match Details"
   ]
  },
  {
   "cell_type": "code",
   "execution_count": 50,
   "id": "0a48ce52",
   "metadata": {},
   "outputs": [],
   "source": [
    "match_details_df = pd.read_csv(r\"C:\\Users\\ublac\\Downloads\\all excels for tableau\\match_details.csv\")\n",
    "\n",
    "table_name = 'match_details'\n",
    "\n",
    "db_host = '******'\n",
    "db_name = '*******'\n",
    "db_user = '********'\n",
    "db_password = '*******'\n",
    "\n",
    "# Create SQLAlchemy engine\n",
    "engine = create_engine(f'postgresql+psycopg2://{db_user}:{db_password}@{db_host}/{db_name}')"
   ]
  },
  {
   "cell_type": "code",
   "execution_count": 51,
   "id": "e404647c",
   "metadata": {},
   "outputs": [
    {
     "data": {
      "text/plain": [
       "596"
      ]
     },
     "execution_count": 51,
     "metadata": {},
     "output_type": "execute_result"
    }
   ],
   "source": [
    "match_details_df.to_sql('match_details', engine, index=False, if_exists='replace')"
   ]
  },
  {
   "cell_type": "markdown",
   "id": "dde269c3",
   "metadata": {},
   "source": [
    "### proplayer details"
   ]
  },
  {
   "cell_type": "code",
   "execution_count": 52,
   "id": "7de5045f",
   "metadata": {},
   "outputs": [],
   "source": [
    "proplayers_details_df = pd.read_csv(r\"C:\\Users\\ublac\\Downloads\\all excels for tableau\\proplayers_details.csv\")\n",
    "\n",
    "table_name = 'proplayers_details'\n"
   ]
  },
  {
   "cell_type": "code",
   "execution_count": 53,
   "id": "86a15909",
   "metadata": {},
   "outputs": [
    {
     "data": {
      "text/plain": [
       "416"
      ]
     },
     "execution_count": 53,
     "metadata": {},
     "output_type": "execute_result"
    }
   ],
   "source": [
    "proplayers_details_df.to_sql('proplayers_details', engine, index=False, if_exists='replace')"
   ]
  },
  {
   "cell_type": "markdown",
   "id": "5f4da106",
   "metadata": {},
   "source": [
    "### Hero Details\n"
   ]
  },
  {
   "cell_type": "code",
   "execution_count": 54,
   "id": "18642997",
   "metadata": {},
   "outputs": [],
   "source": [
    "hero_details_df = pd.read_csv(r\"C:\\Users\\ublac\\Downloads\\all excels for tableau\\hero_details.csv\")\n",
    "\n",
    "table_name = 'hero_details'\n"
   ]
  },
  {
   "cell_type": "code",
   "execution_count": 55,
   "id": "77dae03e",
   "metadata": {},
   "outputs": [
    {
     "data": {
      "text/plain": [
       "124"
      ]
     },
     "execution_count": 55,
     "metadata": {},
     "output_type": "execute_result"
    }
   ],
   "source": [
    "hero_details_df.to_sql(table_name, engine, index=False, if_exists='replace')"
   ]
  },
  {
   "cell_type": "markdown",
   "id": "069b1942",
   "metadata": {},
   "source": [
    "### Player Stats Data"
   ]
  },
  {
   "cell_type": "code",
   "execution_count": 56,
   "id": "b21a6cd3",
   "metadata": {},
   "outputs": [],
   "source": [
    "player_stats_df = pd.read_csv(r\"C:\\Users\\ublac\\Downloads\\all excels for tableau\\player_stats_data.csv\")\n",
    "\n",
    "table_name = 'player_stats'\n"
   ]
  },
  {
   "cell_type": "code",
   "execution_count": 57,
   "id": "a70ab7f3",
   "metadata": {},
   "outputs": [
    {
     "data": {
      "text/plain": [
       "400"
      ]
     },
     "execution_count": 57,
     "metadata": {},
     "output_type": "execute_result"
    }
   ],
   "source": [
    "player_stats_df.to_sql(table_name, engine, index=False, if_exists='replace')"
   ]
  },
  {
   "cell_type": "markdown",
   "id": "f266818c",
   "metadata": {},
   "source": [
    "### Match Stats"
   ]
  },
  {
   "cell_type": "code",
   "execution_count": 58,
   "id": "e3694d12",
   "metadata": {},
   "outputs": [],
   "source": [
    "match_stats_df = pd.read_csv(r\"C:\\Users\\ublac\\Downloads\\all excels for tableau\\match_stats.csv\")\n",
    "\n",
    "table_name = 'match_stats'\n"
   ]
  },
  {
   "cell_type": "code",
   "execution_count": 59,
   "id": "1cf7cf92",
   "metadata": {},
   "outputs": [
    {
     "data": {
      "text/plain": [
       "740"
      ]
     },
     "execution_count": 59,
     "metadata": {},
     "output_type": "execute_result"
    }
   ],
   "source": [
    "match_stats_df.to_sql(table_name, engine, index=False, if_exists='replace')"
   ]
  },
  {
   "cell_type": "markdown",
   "id": "e9433701",
   "metadata": {},
   "source": [
    "### Hero Pick Bans"
   ]
  },
  {
   "cell_type": "code",
   "execution_count": 60,
   "id": "6ccee64c",
   "metadata": {},
   "outputs": [],
   "source": [
    "hero_picks_bans_df = pd.read_csv(r\"C:\\Users\\ublac\\Downloads\\all excels for tableau\\hero_picks_bans.csv\")\n",
    "\n",
    "table_name = 'hero_picks_bans'\n"
   ]
  },
  {
   "cell_type": "code",
   "execution_count": 61,
   "id": "f3d0011b",
   "metadata": {},
   "outputs": [
    {
     "data": {
      "text/plain": [
       "11"
      ]
     },
     "execution_count": 61,
     "metadata": {},
     "output_type": "execute_result"
    }
   ],
   "source": [
    "hero_picks_bans_df.to_sql(table_name, engine, index=False, if_exists='replace')"
   ]
  },
  {
   "cell_type": "markdown",
   "id": "843c0318",
   "metadata": {},
   "source": [
    "### Player Item Timing"
   ]
  },
  {
   "cell_type": "code",
   "execution_count": 62,
   "id": "26b77481",
   "metadata": {},
   "outputs": [],
   "source": [
    "player_item_timing_df = pd.read_csv(r\"C:\\Users\\ublac\\Downloads\\all excels for tableau\\player_item_timing.csv\")\n",
    "\n",
    "table_name = 'player_item_timing'\n"
   ]
  },
  {
   "cell_type": "code",
   "execution_count": 63,
   "id": "9e7d751c",
   "metadata": {},
   "outputs": [
    {
     "data": {
      "text/plain": [
       "884"
      ]
     },
     "execution_count": 63,
     "metadata": {},
     "output_type": "execute_result"
    }
   ],
   "source": [
    "player_item_timing_df.to_sql(table_name, engine, index=False, if_exists='replace')"
   ]
  },
  {
   "cell_type": "markdown",
   "id": "79ef22cb",
   "metadata": {},
   "source": [
    "### Player Match Data"
   ]
  },
  {
   "cell_type": "code",
   "execution_count": 64,
   "id": "41efd0dc",
   "metadata": {},
   "outputs": [
    {
     "name": "stderr",
     "output_type": "stream",
     "text": [
      "C:\\Users\\ublac\\AppData\\Local\\Temp\\ipykernel_13256\\863042269.py:1: DtypeWarning: Columns (97) have mixed types. Specify dtype option on import or set low_memory=False.\n",
      "  player_match_data_df = pd.read_csv(r\"C:\\Users\\ublac\\Downloads\\all excels for tableau\\player_match_data.csv\")\n"
     ]
    }
   ],
   "source": [
    "player_match_data_df = pd.read_csv(r\"C:\\Users\\ublac\\Downloads\\all excels for tableau\\player_match_data.csv\")\n",
    "\n",
    "table_name = 'player_match_data'\n"
   ]
  },
  {
   "cell_type": "code",
   "execution_count": 65,
   "id": "f9686c7a",
   "metadata": {},
   "outputs": [
    {
     "data": {
      "text/plain": [
       "951"
      ]
     },
     "execution_count": 65,
     "metadata": {},
     "output_type": "execute_result"
    }
   ],
   "source": [
    "player_match_data_df.to_sql(table_name, engine, index=False, if_exists='replace')"
   ]
  },
  {
   "cell_type": "code",
   "execution_count": null,
   "id": "2abb7de7",
   "metadata": {},
   "outputs": [],
   "source": []
  }
 ],
 "metadata": {
  "kernelspec": {
   "display_name": "Python 3 (ipykernel)",
   "language": "python",
   "name": "python3"
  },
  "language_info": {
   "codemirror_mode": {
    "name": "ipython",
    "version": 3
   },
   "file_extension": ".py",
   "mimetype": "text/x-python",
   "name": "python",
   "nbconvert_exporter": "python",
   "pygments_lexer": "ipython3",
   "version": "3.9.12"
  }
 },
 "nbformat": 4,
 "nbformat_minor": 5
}
