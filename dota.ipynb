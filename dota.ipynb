{
 "cells": [
  {
   "cell_type": "code",
   "execution_count": null,
   "metadata": {
    "application/vnd.databricks.v1+cell": {
     "cellMetadata": {
      "byteLimit": 2048000,
      "rowLimit": 10000
     },
     "inputWidgets": {},
     "nuid": "8f5e28d2-b4f9-4e28-80fb-293b11539340",
     "showTitle": false,
     "title": ""
    }
   },
   "outputs": [
    {
     "data": {
      "application/vnd.databricks.v1+bamboolib_hint": "{\"pd.DataFrames\": [], \"version\": \"0.0.1\"}",
      "text/plain": []
     },
     "metadata": {},
     "output_type": "display_data"
    }
   ],
   "source": [
    "import requests\n",
    "import pandas as pd\n",
    "import time\n",
    "import json"
   ]
  },
  {
   "cell_type": "code",
   "execution_count": null,
   "metadata": {
    "application/vnd.databricks.v1+cell": {
     "cellMetadata": {
      "byteLimit": 2048000,
      "rowLimit": 10000
     },
     "inputWidgets": {},
     "nuid": "400b537d-b598-4c27-bf72-bb95d397d0b0",
     "showTitle": false,
     "title": ""
    }
   },
   "outputs": [],
   "source": [
    "def extract_match_details(match_detail):\n",
    "    draft_timings_data = []\n",
    "    draft_timings = match_detail['draft_timings']\n",
    "    clean_match_detail = {}\n",
    "    match_id = match_detail['match_id']\n",
    "    for timing in draft_timings:\n",
    "        timing['match_id'] = match_id\n",
    "        draft_timings_data.append(timing)\n",
    "        \n",
    "    objectives_data = []\n",
    "    \n",
    "    objectives = match_detail['objectives']\n",
    "    for objective in objectives:\n",
    "        objective['match_id'] = match_id\n",
    "        objectives_data.append(objective)\n",
    "    \n",
    "    player_stats_timedata_df = pd.DataFrame()\n",
    "    player_item_time_df = pd.DataFrame()\n",
    "    clean_players_df = pd.DataFrame()\n",
    "    for player in match_detail['players']:\n",
    "        try:\n",
    "                player_stat = pd.DataFrame()\n",
    "                player_stat['time'] = player['times']\n",
    "                player_stat['gold'] = player['gold_t']\n",
    "                player_stat['lh'] = player['lh_t']\n",
    "                player_stat['dn'] = player['dn_t']\n",
    "                player_stat['xp'] = player['xp_t']\n",
    "                player_stat['player_id'] = [player['account_id']] * len(player['times'])\n",
    "                player_stat['player_id'] = [match_id] * len(player['times'])\n",
    "                \n",
    "                player_stats_timedata_df = pd.concat([player_stats_timedata_df, player_stat])\n",
    "                \n",
    "                item_time = []\n",
    "                for key, value in player['purchase_time'].items():\n",
    "                    item_time.append(\n",
    "                        {\n",
    "                            \"match_id\": match_id,\n",
    "                            \"player_id\": player['account_id'],\n",
    "                            'item': key,\n",
    "                            'time': value\n",
    "                        }\n",
    "                    )\n",
    "                \n",
    "                player_item_time_df = pd.concat([player_item_time_df, pd.DataFrame(item_time)])\n",
    "                \n",
    "                cp = {\n",
    "                    'match_id': match_id\n",
    "                }\n",
    "                for key, value in player.items():\n",
    "                    if type(value) in [dict, list]:\n",
    "                        continue\n",
    "                    cp[key] = value\n",
    "                clean_players_df = pd.concat([clean_players_df, pd.DataFrame([cp])])\n",
    "        except Exception:\n",
    "                print('Error in match_id ', match_id)\n",
    "                pass\n",
    "        \n",
    "    \n",
    "    match_stats_df = pd.DataFrame()\n",
    "    \n",
    "    match_stats_df['time'] = range(len(match_detail['radiant_gold_adv']))\n",
    "    match_stats_df['radiant_gold_adv'] = match_detail['radiant_gold_adv']\n",
    "    match_stats_df['radiant_xp_adv'] = match_detail['radiant_xp_adv']\n",
    "    match_stats_df['match_id'] = match_id * len(match_detail['radiant_gold_adv'])\n",
    "    \n",
    "    for key, value in match_detail.items():\n",
    "        if type(value) in [dict, list]:\n",
    "            continue\n",
    "        clean_match_detail[key] = value\n",
    "    \n",
    "    return pd.DataFrame(draft_timings_data), pd.DataFrame(objectives_data), match_stats_df, clean_players_df, player_item_time_df, player_stats_timedata_df, pd.DataFrame([clean_match_detail])"
   ]
  },
  {
   "cell_type": "code",
   "execution_count": null,
   "metadata": {
    "application/vnd.databricks.v1+cell": {
     "cellMetadata": {
      "byteLimit": 2048000,
      "rowLimit": 10000
     },
     "inputWidgets": {},
     "nuid": "932a6a86-cec2-4323-ae11-cfd6d29b2d64",
     "showTitle": false,
     "title": ""
    }
   },
   "outputs": [],
   "source": [
    "driver = \"org.postgresql.Driver\"\n",
    "\n",
    "database_host = \"*******\"\n",
    "database_port = \"****\" # update if you use a non-default port\n",
    "database_name = \"postgres\"\n",
    "table = \"match_details\"\n",
    "user = \"******\"\n",
    "password = \"*******\"\n",
    "\n",
    "url = f\"jdbc:postgresql://{database_host}:{database_port}/{database_name}\"\n",
    "\n",
    "remote_table = (spark.read\n",
    "  .format(\"jdbc\")\n",
    "  .option(\"driver\", driver)\n",
    "  .option(\"url\", url)\n",
    "  .option(\"dbtable\", table)\n",
    "  .option(\"user\", user)\n",
    "  .option(\"password\", password)\n",
    "  .load()\n",
    ")"
   ]
  },
  {
   "cell_type": "code",
   "execution_count": null,
   "metadata": {
    "application/vnd.databricks.v1+cell": {
     "cellMetadata": {
      "byteLimit": 2048000,
      "rowLimit": 10000
     },
     "inputWidgets": {},
     "nuid": "ad2825e6-f6d8-4fa2-b167-3fa0ad896169",
     "showTitle": false,
     "title": ""
    }
   },
   "outputs": [
    {
     "name": "stdout",
     "output_type": "stream",
     "text": [
      "+-------+----------+--------+----------+--------+---------+-----------+-------+-----------+-----------+-----------------+-------------+--------------------+-----------------+-----------------------+--------------------+----------------+----------+-------------+---------+-----+------+-------------+----------+---------------+----------------+-------------------+---------------------+------------+-----------------+--------------------+------------------+---------------+-------------+--------+-----+------+------+-------+--------------------+------------+---------+--------+-------+----------+\n",
      "|version|  match_id|leagueid|start_time|duration|series_id|series_type|cluster|replay_salt|radiant_win|pre_game_duration|match_seq_num|tower_status_radiant|tower_status_dire|barracks_status_radiant|barracks_status_dire|first_blood_time|lobby_type|human_players|game_mode|flags|engine|radiant_score|dire_score|radiant_team_id|    radiant_name|       radiant_logo|radiant_team_complete|dire_team_id|        dire_name|           dire_logo|dire_team_complete|radiant_captain| dire_captain|metadata|patch|region| throw|   loss|          replay_url|radiant_team|dire_team|comeback|  stomp|picks_bans|\n",
      "+-------+----------+--------+----------+--------+---------+-----------+-------+-----------+-----------+-----------------+-------------+--------------------+-----------------+-----------------------+--------------------+----------------+----------+-------------+---------+-----+------+-------------+----------+---------------+----------------+-------------------+---------------------+------------+-----------------+--------------------+------------------+---------------+-------------+--------+-----+------+------+-------+--------------------+------------+---------+--------+-------+----------+\n",
      "|     21|7694225732|   15890|1713582234|    1687|   870159|          1|    151|  317130281|       true|               90|   6476763119|                2046|                6|                     63|                   3|             179|         1|           10|        2|    5|     1|           46|        12|      7915344.0|  SÖLAN E-Sports|1610554771280220400|                  0.0|   9409423.0|Eagle Eye Esports|2.504639701999664...|               0.0|   2.51511609E8|  1.2245299E8|    null|   54|   5.0|   0.0|30252.0|http://replay151....|        null|     null|    null|   null|      null|\n",
      "|     21|7694200826|   15890|1713582573|    1854|   870161|          1|    154|  742133498|       true|               90|   6476770322|                1975|                0|                     63|                   0|             104|         1|           10|        2|    5|     1|           37|        12|      9025359.0|    The Covenant|2187121345783071200|                  1.0|   9302443.0|       UNBOTHERED|2.305344642136517...|               0.0|   1.58805311E8|  5.2879361E7|    null|   54|   5.0|1839.0|26240.0|http://replay154....|        null|     null|    null|   null|      null|\n",
      "|     21|7694154386|   16109|1713577010|    1629|   870145|          1|    271| 1229182347|       true|               90|   6476694418|                1847|             1920|                     63|                  60|             223|         1|           10|        2|    5|     1|           22|        16|      8849990.0|    REAL ECLIPSE|2412313289525493000|                  0.0|   8957156.0|    Silent killer|2.431453582272336...|               0.0|    6.9799134E7|  3.6771694E7|    null|   54|   3.0| 634.0|16338.0|http://replay271....|        null|     null|    null|   null|      null|\n",
      "|     21|7694115103|   16109|1713573815|    2392|   870145|          1|    274|  258889700|       true|               90|   6476674181|                1798|              432|                     51|                  60|              17|         1|           10|        2|    1|     1|           40|        31|      8957156.0|   Silent killer|2431453582272336400|                  0.0|   8849990.0|     REAL ECLIPSE|2.412313289525493...|               0.0|    3.6771694E7|  6.9799134E7|    null|   54|   3.0|9236.0| 6158.0|http://replay274....|        null|     null|    null|   null|      null|\n",
      "|     21|7694080485|   16109|1713570879|    2288|   870145|          1|    273|  303022836|       true|               90|   6476639883|                 903|             1478|                     51|                  51|              91|         1|           10|        2|    5|     1|           38|        38|      8849990.0|    REAL ECLIPSE|2412313289525493000|                  0.0|   8957156.0|    Silent killer|2.431453582272336...|               0.0|   2.44664524E8| 1.20231412E8|    null|   54|   3.0|7560.0| 7345.0|http://replay273....|        null|     null|    null|   null|      null|\n",
      "|     21|7694048955|   16109|1713568447|    1603|   870137|          1|    274|  118531738|      false|               90|   6476603279|                1926|             1974|                     51|                  63|               7|         1|           10|        2|    5|     1|           22|        37|      8849817.0|ZEUS THUNDER GOD|1832426636071192000|                  1.0|   8849833.0|      VERTEX PACK|2.047503411652997...|               1.0|   1.88408746E8| 8.45344315E8|    null|   54|   3.0|  null|   null|http://replay274....|        null|     null|     0.0| 9547.0|      null|\n",
      "|     21|7694011028|   16109|1713565889|    1774|   870137|          1|    273| 1856834978|       true|               90|   6476572588|                1599|              390|                     63|                  51|              13|         1|           10|        2|    5|     1|           33|        12|      8849833.0|     VERTEX PACK|2047503411652997000|                  1.0|   8849817.0| ZEUS THUNDER GOD|1.832426636071192...|               1.0|   3.58783974E8| 1.25106763E8|    null|   54|   3.0|2513.0|16292.0|http://replay273....|        null|     null|    null|   null|      null|\n",
      "|     21|7693964456|   16109|1713563093|    1870|   870115|          1|    271|  680428980|       true|               90|   6476530191|                1847|              960|                     63|                  48|              62|         1|           10|        2|    5|     1|           32|        24|      8936613.0|     Wild Dragon|1990057787343993000|                  0.0|   9005364.0|     Night Vision|2.460727068613839...|               0.0|  1.674133168E9| 1.23406722E8|    null|   54|   3.0|6023.0| 8491.0|http://replay271....|        null|     null|    null|   null|      null|\n",
      "|     21|7693957481|   15899|1713562670|    3170|   870113|          1|    121| 1059500187|      false|               90|   6476550895|                   0|             1536|                      0|                  51|             295|         1|           10|        2|    5|     1|           28|        29|      8971308.0|       x5 Gaming|2062124990905724400|                  0.0|   9337731.0|         LEVIATAN|2.428075427285893...|               1.0|    8.6818655E7| 2.86393568E8|    null|   54|   2.0|  null|   null|http://replay121....|        null|     null|  7198.0| 3095.0|      null|\n",
      "|     21|7693938491|   15898|1713561845|    3678|   870093|          1|    272| 1675420105|      false|               90|   6476546883|                 256|             1796|                     48|                  51|               8|         1|           10|        2|    1|     1|           44|        43|      9366989.0|         ASAKURA|2473112602549990400|                  1.0|   9081007.0|        Sibe Team|2.319983338495982...|               1.0|   1.55162307E8| 1.63458082E8|    null|   54|   3.0|  null|   null|http://replay272....|        null|     null| 15808.0|22977.0|      null|\n",
      "|     21|7693903866|   16109|1713559762|    2090|   870115|          1|    272|  388221179|       true|               90|   6476477940|                1974|             1926|                     63|                  51|              55|         1|           10|        2|    5|     1|           42|        29|      9005364.0|    Night Vision|2460727068613840000|                  0.0|   8936613.0|      Wild Dragon|1.990057787343993...|               0.0|  1.675393568E9|1.675168076E9|    null|   54|   3.0|6409.0| 8594.0|http://replay272....|        null|     null|    null|   null|      null|\n",
      "|     21|7693857643|   15901|1713557865|    2143|   870084|          1|    271| 2084060710|       true|               90|   6476442302|                1828|             1926|                     63|                  51|             150|         1|           10|        2|    5|     1|           42|        32|      9389538.0|        Dominion|2492252900944994000|                  0.0|   9401815.0|     Elite Eclips|5.855316805862754...|               0.0|   1.70823465E9| 3.07277211E8|    null|   54|   3.0|5564.0|14643.0|http://replay271....|        null|     null|    null|   null|      null|\n",
      "|     21|7693841269|   16109|1713557255|    1613|   870115|          1|    271| 2030265789|       true|               90|   6476414192|                1847|             1588|                     63|                  63|             142|         1|           10|        2|    5|     1|           29|        12|      8936613.0|     Wild Dragon|1990057787343993000|                  0.0|   9005364.0|     Night Vision|2.460727068613839...|               0.0|  1.675168076E9|1.675393568E9|    null|   54|   3.0|  71.0| 8970.0|http://replay271....|        null|     null|    null|   null|      null|\n",
      "|     21|7693830980|   15898|1713556776|    3247|   870093|          1|    273| 1769807329|      false|               90|   6476448900|                1024|             1828|                     56|                  63|             441|         1|           10|        2|    5|     1|           31|        44|      9081007.0|       Sibe Team|2319983338495982600|                  1.0|   9366989.0|          ASAKURA|2.473112602549990...|               1.0|    3.8399148E8| 1.85059559E8|    null|   54|   3.0|  null|   null|http://replay273....|        null|     null|  5329.0|14054.0|      null|\n",
      "|     21|7693828409|   15899|1713557188|    3624|   870113|          1|    122|  195172949|      false|               90|   6476468951|                 512|             1920|                      0|                  48|             165|         1|           10|        2|    5|     1|           40|        48|      8971308.0|       x5 Gaming|2062124990905724400|                  0.0|   9337731.0|         LEVIATAN|2.428075427285893...|               1.0|    8.6818655E7| 2.86393568E8|    null|   54|   2.0|  null|   null|http://replay122....|        null|     null|  6326.0|33145.0|      null|\n",
      "|     21|7693747715|   15901|1713553703|    2900|   870084|          1|    272|  934541107|       true|               90|   6476362875|                1584|                0|                     63|                   0|              11|         1|           10|        2|    5|     1|           48|        36|      9401815.0|    Elite Eclips|5855316805862754000|                  0.0|   9389538.0|         Dominion|2.492252900944993...|               0.0|  1.620243459E9|1.029972951E9|    null|   54|   3.0|7456.0| 6505.0|http://replay272....|        null|     null|    null|   null|      null|\n",
      "|     21|7693720128|   15898|1713552796|    2583|   870093|          1|    274| 1324024679|      false|               90|   6476333959|                1536|             1958|                      0|                  63|             285|         1|           10|        2|    5|     1|           23|        43|      9366989.0|         ASAKURA|2473112602549990400|                  1.0|   9081007.0|        Sibe Team|2.319983338495982...|               1.0|   1.85059559E8| 1.63458082E8|    null|   54|   3.0|  null|   null|http://replay274....|        null|     null|   631.0|30677.0|      null|\n",
      "|     21|7693663210|   15899|1713550217|    3227|   870073|          1|    122|   74020327|      false|               90|   6476300656|                   0|             1974|                      0|                  63|              10|         1|           10|        2|    1|     1|           32|        55|      9381358.0|    Estar Backs!|2457349368893624300|                  0.0|   8406842.0|     GRIN Esports|2.001317420616485...|               0.0|   1.00758751E8|  8.4429681E7|    null|   54|   2.0|  null|   null|http://replay122....|        null|     null|   100.0|26913.0|      null|\n",
      "|     21|7693655776|   15901|1713550042|    2119|   870084|          1|    271| 2095312899|       true|               90|   6476255986|                1975|             1536|                     63|                  48|             201|         1|           10|        2|    5|     1|           62|        19|      9389538.0|        Dominion|2492252900944994000|                  0.0|   9401815.0|     Elite Eclips|5.855316805862754...|               0.0|  1.646045109E9| 3.07277211E8|    null|   54|   3.0| 542.0|28423.0|http://replay271....|        null|     null|    null|   null|      null|\n",
      "|     21|7693627485|   15898|1713549358|    1237|   870061|          1|    272| 1218998116|      false|               90|   6476221014|                1958|             2046|                     63|                  63|               9|         1|           10|        2|    5|     1|            7|        24|      9303383.0|       L1GA TEAM|2303094838073172200|                  0.0|   2576071.0| Yellow Submarine|1.629730806246774...|               0.0|     9.352652E7|1.675898897E9|    null|   54|   3.0|  null|   null|http://replay272....|        null|     null|     0.0|11057.0|      null|\n",
      "+-------+----------+--------+----------+--------+---------+-----------+-------+-----------+-----------+-----------------+-------------+--------------------+-----------------+-----------------------+--------------------+----------------+----------+-------------+---------+-----+------+-------------+----------+---------------+----------------+-------------------+---------------------+------------+-----------------+--------------------+------------------+---------------+-------------+--------+-----+------+------+-------+--------------------+------------+---------+--------+-------+----------+\n",
      "only showing top 20 rows\n",
      "\n"
     ]
    }
   ],
   "source": [
    "remote_table.show()"
   ]
  },
  {
   "cell_type": "code",
   "execution_count": null,
   "metadata": {
    "application/vnd.databricks.v1+cell": {
     "cellMetadata": {
      "byteLimit": 2048000,
      "rowLimit": 10000
     },
     "inputWidgets": {},
     "nuid": "d10487c8-e85f-4276-8e7e-968de9957fa3",
     "showTitle": false,
     "title": ""
    }
   },
   "outputs": [],
   "source": [
    "top_match_id = int(remote_table.describe(\"match_id\").filter(\"summary = 'max'\").select(\"match_id\").first().asDict()['match_id'])"
   ]
  },
  {
   "cell_type": "code",
   "execution_count": null,
   "metadata": {
    "application/vnd.databricks.v1+cell": {
     "cellMetadata": {
      "byteLimit": 2048000,
      "rowLimit": 10000
     },
     "inputWidgets": {},
     "nuid": "8b4a0c40-d468-4bfc-9e82-9d45bb873023",
     "showTitle": false,
     "title": ""
    }
   },
   "outputs": [
    {
     "name": "stdout",
     "output_type": "stream",
     "text": [
      "[{'match_id': 7699538252, 'duration': 2674, 'start_time': 1713803251, 'radiant_team_id': 9381131, 'radiant_name': 'Uzumaki', 'dire_team_id': 8829924, 'dire_name': 'Rabbits of Revenge', 'leagueid': 15901, 'league_name': 'Ultras Dota Pro League  2023-24', 'series_id': None, 'series_type': None, 'radiant_score': 48, 'dire_score': 39, 'radiant_win': True, 'version': None}, {'match_id': 7699534164, 'duration': 1141, 'start_time': 1713803119, 'radiant_team_id': 9360721, 'radiant_name': 'KIBA ARMS', 'dire_team_id': 8831040, 'dire_name': 'Ghost Sheep', 'leagueid': 15901, 'league_name': 'Ultras Dota Pro League  2023-24', 'series_id': None, 'series_type': None, 'radiant_score': 40, 'dire_score': 7, 'radiant_win': True, 'version': None}, {'match_id': 7699443041, 'duration': 1378, 'start_time': 1713800224, 'radiant_team_id': 8831040, 'radiant_name': 'Ghost Sheep', 'dire_team_id': 9360721, 'dire_name': 'KIBA ARMS', 'leagueid': 15901, 'league_name': 'Ultras Dota Pro League  2023-24', 'series_id': None, 'series_type': None, 'radiant_score': 10, 'dire_score': 35, 'radiant_win': False, 'version': None}, {'match_id': 7699436705, 'duration': 1892, 'start_time': 1713800052, 'radiant_team_id': 8829924, 'radiant_name': 'Rabbits of Revenge', 'dire_team_id': 9381131, 'dire_name': 'Uzumaki', 'leagueid': 15901, 'league_name': 'Ultras Dota Pro League  2023-24', 'series_id': None, 'series_type': None, 'radiant_score': 52, 'dire_score': 18, 'radiant_win': True, 'version': None}, {'match_id': 7699381326, 'duration': 4248, 'start_time': 1713798673, 'radiant_team_id': 8255888, 'radiant_name': 'BetBoom Team', 'dire_team_id': 5, 'dire_name': 'G2 x iG', 'leagueid': 16518, 'league_name': 'ESL One Birmingham 2024 Powered by Intel', 'series_id': None, 'series_type': None, 'radiant_score': 38, 'dire_score': 36, 'radiant_win': False, 'version': None}, {'match_id': 7699339315, 'duration': 1727, 'start_time': 1713797581, 'radiant_team_id': 2163, 'radiant_name': 'Team Liquid', 'dire_team_id': 8597976, 'dire_name': 'Talon', 'leagueid': 16518, 'league_name': 'ESL One Birmingham 2024 Powered by Intel', 'series_id': None, 'series_type': None, 'radiant_score': 30, 'dire_score': 5, 'radiant_win': True, 'version': None}, {'match_id': 7699290234, 'duration': 1944, 'start_time': 1713796623, 'radiant_team_id': 9247354, 'radiant_name': 'Team Falcons', 'dire_team_id': 39, 'dire_name': 'Shopify Rebellion', 'leagueid': 16518, 'league_name': 'ESL One Birmingham 2024 Powered by Intel', 'series_id': None, 'series_type': None, 'radiant_score': 10, 'dire_score': 36, 'radiant_win': False, 'version': None}, {'match_id': 7699284365, 'duration': 1250, 'start_time': 1713795585, 'radiant_team_id': 8831040, 'radiant_name': 'Ghost Sheep', 'dire_team_id': 8829924, 'dire_name': 'Rabbits of Revenge', 'leagueid': 15901, 'league_name': 'Ultras Dota Pro League  2023-24', 'series_id': None, 'series_type': None, 'radiant_score': 17, 'dire_score': 48, 'radiant_win': False, 'version': None}, {'match_id': 7699194718, 'duration': 2409, 'start_time': 1713793140, 'radiant_team_id': 8597976, 'radiant_name': 'Talon', 'dire_team_id': 2163, 'dire_name': 'Team Liquid', 'leagueid': 16518, 'league_name': 'ESL One Birmingham 2024 Powered by Intel', 'series_id': None, 'series_type': None, 'radiant_score': 33, 'dire_score': 14, 'radiant_win': True, 'version': None}, {'match_id': 7699189839, 'duration': 1635, 'start_time': 1713793144, 'radiant_team_id': 39, 'radiant_name': 'Shopify Rebellion', 'dire_team_id': 9247354, 'dire_name': 'Team Falcons', 'leagueid': 16518, 'league_name': 'ESL One Birmingham 2024 Powered by Intel', 'series_id': None, 'series_type': None, 'radiant_score': 9, 'dire_score': 24, 'radiant_win': False, 'version': None}, {'match_id': 7699188045, 'duration': 3411, 'start_time': 1713793155, 'radiant_team_id': 8255888, 'radiant_name': 'BetBoom Team', 'dire_team_id': 5, 'dire_name': 'G2 x iG', 'leagueid': 16518, 'league_name': 'ESL One Birmingham 2024 Powered by Intel', 'series_id': None, 'series_type': None, 'radiant_score': 23, 'dire_score': 29, 'radiant_win': False, 'version': None}, {'match_id': 7699178470, 'duration': 2124, 'start_time': 1713792567, 'radiant_team_id': 8829924, 'radiant_name': 'Rabbits of Revenge', 'dire_team_id': 8831040, 'dire_name': 'Ghost Sheep', 'leagueid': 15901, 'league_name': 'Ultras Dota Pro League  2023-24', 'series_id': None, 'series_type': None, 'radiant_score': 33, 'dire_score': 27, 'radiant_win': True, 'version': None}, {'match_id': 7699133303, 'duration': 2494, 'start_time': 1713791401, 'radiant_team_id': 8360138, 'radiant_name': 'Neon Esports', 'dire_team_id': 8944230, 'dire_name': 'Yangon Galacticos', 'leagueid': 16586, 'league_name': 'Kobolds Rave 2', 'series_id': None, 'series_type': None, 'radiant_score': 50, 'dire_score': 18, 'radiant_win': True, 'version': None}, {'match_id': 7699056337, 'duration': 1512, 'start_time': 1713788826, 'radiant_team_id': 5, 'radiant_name': 'G2 x iG', 'dire_team_id': 2163, 'dire_name': 'Team Liquid', 'leagueid': 16518, 'league_name': 'ESL One Birmingham 2024 Powered by Intel', 'series_id': None, 'series_type': None, 'radiant_score': 29, 'dire_score': 8, 'radiant_win': True, 'version': None}, {'match_id': 7699048973, 'duration': 1506, 'start_time': 1713788436, 'radiant_team_id': 9088071, 'radiant_name': 'EYE Gaming', 'dire_team_id': 9360721, 'dire_name': 'KIBA ARMS', 'leagueid': 15901, 'league_name': 'Ultras Dota Pro League  2023-24', 'series_id': None, 'series_type': None, 'radiant_score': 20, 'dire_score': 47, 'radiant_win': False, 'version': None}, {'match_id': 7699048962, 'duration': 1664, 'start_time': 1713788435, 'radiant_team_id': 9401815, 'radiant_name': 'Elite Eclips', 'dire_team_id': 9395679, 'dire_name': 'Shinigami Gaming', 'leagueid': 15901, 'league_name': 'Ultras Dota Pro League  2023-24', 'series_id': 870828, 'series_type': 1, 'radiant_score': 11, 'dire_score': 55, 'radiant_win': False, 'version': None}, {'match_id': 7699046413, 'duration': 1457, 'start_time': 1713788347, 'radiant_team_id': 8944230, 'radiant_name': 'Yangon Galacticos', 'dire_team_id': 8360138, 'dire_name': 'Neon Esports', 'leagueid': 16586, 'league_name': 'Kobolds Rave 2', 'series_id': None, 'series_type': None, 'radiant_score': 7, 'dire_score': 28, 'radiant_win': False, 'version': None}, {'match_id': 7699033403, 'duration': 1512, 'start_time': 1713787898, 'radiant_team_id': 9018543, 'radiant_name': 'Hustlers', 'dire_team_id': 8893840, 'dire_name': 'Big Bang Gaming', 'leagueid': 16312, 'league_name': 'Ancients League', 'series_id': 870819, 'series_type': 2, 'radiant_score': 30, 'dire_score': 31, 'radiant_win': False, 'version': None}, {'match_id': 7699029231, 'duration': 2223, 'start_time': 1713788531, 'radiant_team_id': 39, 'radiant_name': 'Shopify Rebellion', 'dire_team_id': 8597976, 'dire_name': 'Talon', 'leagueid': 16518, 'league_name': 'ESL One Birmingham 2024 Powered by Intel', 'series_id': None, 'series_type': None, 'radiant_score': 12, 'dire_score': 40, 'radiant_win': False, 'version': None}, {'match_id': 7699013825, 'duration': 2413, 'start_time': 1713787501, 'radiant_team_id': 9247354, 'radiant_name': 'Team Falcons', 'dire_team_id': 8255888, 'dire_name': 'BetBoom Team', 'leagueid': 16518, 'league_name': 'ESL One Birmingham 2024 Powered by Intel', 'series_id': None, 'series_type': None, 'radiant_score': 25, 'dire_score': 27, 'radiant_win': False, 'version': None}, {'match_id': 7698966988, 'duration': 1695, 'start_time': 1713785348, 'radiant_team_id': 9360721, 'radiant_name': 'KIBA ARMS', 'dire_team_id': 9088071, 'dire_name': 'EYE Gaming', 'leagueid': 15901, 'league_name': 'Ultras Dota Pro League  2023-24', 'series_id': 870827, 'series_type': 1, 'radiant_score': 56, 'dire_score': 20, 'radiant_win': True, 'version': 21}, {'match_id': 7698963516, 'duration': 1801, 'start_time': 1713785247, 'radiant_team_id': 9395679, 'radiant_name': 'Shinigami Gaming', 'dire_team_id': 9401815, 'dire_name': 'Elite Eclips', 'leagueid': 15901, 'league_name': 'Ultras Dota Pro League  2023-24', 'series_id': 870828, 'series_type': 1, 'radiant_score': 26, 'dire_score': 25, 'radiant_win': True, 'version': 21}, {'match_id': 7698955547, 'duration': 2576, 'start_time': 1713784866, 'radiant_team_id': 8893840, 'radiant_name': 'Big Bang Gaming', 'dire_team_id': 9018543, 'dire_name': 'Hustlers', 'leagueid': 16312, 'league_name': 'Ancients League', 'series_id': 870819, 'series_type': 2, 'radiant_score': 43, 'dire_score': 47, 'radiant_win': False, 'version': 21}, {'match_id': 7698926941, 'duration': 2882, 'start_time': 1713784061, 'radiant_team_id': 8944230, 'radiant_name': 'Yangon Galacticos', 'dire_team_id': 8360138, 'dire_name': 'Neon Esports', 'leagueid': 16586, 'league_name': 'Kobolds Rave 2', 'series_id': 867261, 'series_type': 1, 'radiant_score': 43, 'dire_score': 18, 'radiant_win': True, 'version': 21}, {'match_id': 7698916654, 'duration': 2038, 'start_time': 1713783601, 'radiant_team_id': 8255888, 'radiant_name': 'BetBoom Team', 'dire_team_id': 9247354, 'dire_name': 'Team Falcons', 'leagueid': 16518, 'league_name': 'ESL One Birmingham 2024 Powered by Intel', 'series_id': 870825, 'series_type': 3, 'radiant_score': 4, 'dire_score': 33, 'radiant_win': False, 'version': 21}, {'match_id': 7698912157, 'duration': 3068, 'start_time': 1713783611, 'radiant_team_id': 8597976, 'radiant_name': 'Talon', 'dire_team_id': 39, 'dire_name': 'Shopify Rebellion', 'leagueid': 16518, 'league_name': 'ESL One Birmingham 2024 Powered by Intel', 'series_id': 870824, 'series_type': 3, 'radiant_score': 30, 'dire_score': 50, 'radiant_win': False, 'version': 21}, {'match_id': 7698910742, 'duration': 3266, 'start_time': 1713783603, 'radiant_team_id': 2163, 'radiant_name': 'Team Liquid', 'dire_team_id': 5, 'dire_name': 'G2 x iG', 'leagueid': 16518, 'league_name': 'ESL One Birmingham 2024 Powered by Intel', 'series_id': 870823, 'series_type': 3, 'radiant_score': 43, 'dire_score': 26, 'radiant_win': True, 'version': 21}, {'match_id': 7698896109, 'duration': 1975, 'start_time': 1713782167, 'radiant_team_id': 9018543, 'radiant_name': 'Hustlers', 'dire_team_id': 8893840, 'dire_name': 'Big Bang Gaming', 'leagueid': 16312, 'league_name': 'Ancients League', 'series_id': 870819, 'series_type': 2, 'radiant_score': 27, 'dire_score': 32, 'radiant_win': False, 'version': 21}, {'match_id': 7698886997, 'duration': 1303, 'start_time': 1713781774, 'radiant_team_id': 8629318, 'radiant_name': 'Mad Monkeys', 'dire_team_id': 2443375, 'dire_name': 'Foxy gaming', 'leagueid': 16059, 'league_name': 'Destiny League', 'series_id': 870821, 'series_type': 1, 'radiant_score': 44, 'dire_score': 13, 'radiant_win': True, 'version': 21}, {'match_id': 7698879047, 'duration': 1886, 'start_time': 1713781357, 'radiant_team_id': 9395676, 'radiant_name': 'Shinigami gaming', 'dire_team_id': 9360721, 'dire_name': 'KIBA ARMS', 'leagueid': 15901, 'league_name': 'Ultras Dota Pro League  2023-24', 'series_id': 870820, 'series_type': 1, 'radiant_score': 17, 'dire_score': 41, 'radiant_win': False, 'version': 21}, {'match_id': 7698864047, 'duration': 1269, 'start_time': 1713780552, 'radiant_team_id': 9332084, 'radiant_name': 'Lighting Legends', 'dire_team_id': 9330493, 'dire_name': 'RuleBreakers', 'leagueid': 16312, 'league_name': 'Ancients League', 'series_id': 870814, 'series_type': 1, 'radiant_score': 7, 'dire_score': 19, 'radiant_win': False, 'version': 21}, {'match_id': 7698855970, 'duration': 1296, 'start_time': 1713780133, 'radiant_team_id': 8893840, 'radiant_name': 'Big Bang Gaming', 'dire_team_id': 9018543, 'dire_name': 'Hustlers', 'leagueid': 16312, 'league_name': 'Ancients League', 'series_id': 870819, 'series_type': 2, 'radiant_score': 33, 'dire_score': 15, 'radiant_win': True, 'version': 21}, {'match_id': 7698846917, 'duration': 2371, 'start_time': 1713779751, 'radiant_team_id': 9080405, 'radiant_name': 'Team Zero', 'dire_team_id': 8360138, 'dire_name': 'Neon Esports', 'leagueid': 16586, 'league_name': 'Kobolds Rave 2', 'series_id': 870817, 'series_type': 1, 'radiant_score': 37, 'dire_score': 15, 'radiant_win': True, 'version': 21}, {'match_id': 7698839777, 'duration': 1391, 'start_time': 1713779370, 'radiant_team_id': 2443375, 'radiant_name': 'Foxy gaming', 'dire_team_id': 8629318, 'dire_name': 'Mad Monkeys', 'leagueid': 16059, 'league_name': 'Destiny League', 'series_id': 870818, 'series_type': 1, 'radiant_score': 16, 'dire_score': 53, 'radiant_win': False, 'version': 21}, {'match_id': 7698824197, 'duration': 1369, 'start_time': 1713778425, 'radiant_team_id': 9330493, 'radiant_name': 'RuleBreakers', 'dire_team_id': 9332084, 'dire_name': 'Lighting Legends', 'leagueid': 16312, 'league_name': 'Ancients League', 'series_id': 870814, 'series_type': 1, 'radiant_score': 38, 'dire_score': 29, 'radiant_win': True, 'version': 21}, {'match_id': 7698806559, 'duration': 1772, 'start_time': 1713777437, 'radiant_team_id': 9080405, 'radiant_name': 'Team Zero', 'dire_team_id': 8360138, 'dire_name': 'Neon Esports', 'leagueid': 16586, 'league_name': 'Kobolds Rave 2', 'series_id': 870817, 'series_type': 1, 'radiant_score': 13, 'dire_score': 31, 'radiant_win': False, 'version': 21}, {'match_id': 7698797636, 'duration': 2114, 'start_time': 1713776922, 'radiant_team_id': 9330485, 'radiant_name': 'BulletProofs', 'dire_team_id': 9018543, 'dire_name': 'Hustlers', 'leagueid': 16312, 'league_name': 'Ancients League', 'series_id': 870807, 'series_type': 1, 'radiant_score': 19, 'dire_score': 27, 'radiant_win': False, 'version': 21}, {'match_id': 7698796297, 'duration': 2010, 'start_time': 1713776843, 'radiant_team_id': 9395679, 'radiant_name': 'Shinigami Gaming', 'dire_team_id': 9360721, 'dire_name': 'KIBA ARMS', 'leagueid': 15901, 'league_name': 'Ultras Dota Pro League  2023-24', 'series_id': 870811, 'series_type': 1, 'radiant_score': 18, 'dire_score': 65, 'radiant_win': False, 'version': 21}, {'match_id': 7698788857, 'duration': 1998, 'start_time': 1713776410, 'radiant_team_id': 9389538, 'radiant_name': 'Dominion', 'dire_team_id': 9088071, 'dire_name': 'EYE Gaming', 'leagueid': 15901, 'league_name': 'Ultras Dota Pro League  2023-24', 'series_id': 870816, 'series_type': 1, 'radiant_score': 47, 'dire_score': 14, 'radiant_win': True, 'version': 21}, {'match_id': 7698787469, 'duration': 1705, 'start_time': 1713776427, 'radiant_team_id': 8629315, 'radiant_name': 'Wiser Warriors', 'dire_team_id': 8629317, 'dire_name': 'Bright Crusaders', 'leagueid': 16059, 'league_name': 'Destiny League', 'series_id': 870806, 'series_type': 1, 'radiant_score': 26, 'dire_score': 11, 'radiant_win': True, 'version': 21}, {'match_id': 7698771914, 'duration': 2309, 'start_time': 1713775400, 'radiant_team_id': 9332084, 'radiant_name': 'Lighting Legends', 'dire_team_id': 9330493, 'dire_name': 'RuleBreakers', 'leagueid': 16312, 'league_name': 'Ancients League', 'series_id': 870814, 'series_type': 1, 'radiant_score': 48, 'dire_score': 46, 'radiant_win': True, 'version': 21}, {'match_id': 7698755923, 'duration': 1717, 'start_time': 1713774447, 'radiant_team_id': 9018543, 'radiant_name': 'Hustlers', 'dire_team_id': 9330485, 'dire_name': 'BulletProofs', 'leagueid': 16312, 'league_name': 'Ancients League', 'series_id': 870807, 'series_type': 1, 'radiant_score': 24, 'dire_score': 30, 'radiant_win': False, 'version': 21}, {'match_id': 7698741421, 'duration': 1941, 'start_time': 1713773629, 'radiant_team_id': 8629317, 'radiant_name': 'Bright Crusaders', 'dire_team_id': 8629315, 'dire_name': 'Wiser Warriors', 'leagueid': 16059, 'league_name': 'Destiny League', 'series_id': 870806, 'series_type': 1, 'radiant_score': 27, 'dire_score': 33, 'radiant_win': False, 'version': 21}, {'match_id': 7698732086, 'duration': 1447, 'start_time': 1713772990, 'radiant_team_id': 9332069, 'radiant_name': 'Mister Maniacs', 'dire_team_id': 9332046, 'dire_name': 'Dominatrix', 'leagueid': 16312, 'league_name': 'Ancients League', 'series_id': 870805, 'series_type': 1, 'radiant_score': 22, 'dire_score': 35, 'radiant_win': False, 'version': 21}, {'match_id': 7698731118, 'duration': 2365, 'start_time': 1713772989, 'radiant_team_id': 9360721, 'radiant_name': 'KIBA ARMS', 'dire_team_id': 9395679, 'dire_name': 'Shinigami Gaming', 'leagueid': 15901, 'league_name': 'Ultras Dota Pro League  2023-24', 'series_id': 870811, 'series_type': 1, 'radiant_score': 23, 'dire_score': 48, 'radiant_win': False, 'version': 21}, {'match_id': 7698729664, 'duration': 2181, 'start_time': 1713772838, 'radiant_team_id': 9080405, 'radiant_name': 'Team Zero', 'dire_team_id': 8360138, 'dire_name': 'Neon Esports', 'leagueid': 16586, 'league_name': 'Kobolds Rave 2', 'series_id': 870810, 'series_type': 1, 'radiant_score': 34, 'dire_score': 19, 'radiant_win': True, 'version': 21}, {'match_id': 7698728463, 'duration': 2246, 'start_time': 1713772977, 'radiant_team_id': 9088071, 'radiant_name': 'EYE Gaming', 'dire_team_id': 9344594, 'dire_name': 'Dominion', 'leagueid': 15901, 'league_name': 'Ultras Dota Pro League  2023-24', 'series_id': 870809, 'series_type': 1, 'radiant_score': 25, 'dire_score': 53, 'radiant_win': False, 'version': 21}, {'match_id': 7698701703, 'duration': 2433, 'start_time': 1713771034, 'radiant_team_id': 9330485, 'radiant_name': 'BulletProofs', 'dire_team_id': 9018543, 'dire_name': 'Hustlers', 'leagueid': 16312, 'league_name': 'Ancients League', 'series_id': 870807, 'series_type': 1, 'radiant_score': 27, 'dire_score': 40, 'radiant_win': False, 'version': 21}, {'match_id': 7698700834, 'duration': 1582, 'start_time': 1713771048, 'radiant_team_id': 8629315, 'radiant_name': 'Wiser Warriors', 'dire_team_id': 8629317, 'dire_name': 'Bright Crusaders', 'leagueid': 16059, 'league_name': 'Destiny League', 'series_id': 870806, 'series_type': 1, 'radiant_score': 20, 'dire_score': 27, 'radiant_win': False, 'version': 21}, {'match_id': 7698694424, 'duration': 1795, 'start_time': 1713770539, 'radiant_team_id': 9332046, 'radiant_name': 'Dominatrix', 'dire_team_id': 9332069, 'dire_name': 'Mister Maniacs', 'leagueid': 16312, 'league_name': 'Ancients League', 'series_id': 870805, 'series_type': 1, 'radiant_score': 38, 'dire_score': 18, 'radiant_win': True, 'version': 21}, {'match_id': 7698677710, 'duration': 1908, 'start_time': 1713769497, 'radiant_team_id': 9088071, 'radiant_name': 'EYE Gaming', 'dire_team_id': 9395679, 'dire_name': 'Shinigami Gaming', 'leagueid': 15901, 'league_name': 'Ultras Dota Pro League  2023-24', 'series_id': 870803, 'series_type': 1, 'radiant_score': 30, 'dire_score': 42, 'radiant_win': False, 'version': 21}, {'match_id': 7698661984, 'duration': 1944, 'start_time': 1713768281, 'radiant_team_id': 9332059, 'radiant_name': 'Ninja Bros', 'dire_team_id': 9018543, 'dire_name': 'Hustlers', 'leagueid': 16312, 'league_name': 'Ancients League', 'series_id': 870797, 'series_type': 1, 'radiant_score': 19, 'dire_score': 37, 'radiant_win': False, 'version': 21}, {'match_id': 7698658008, 'duration': 1513, 'start_time': 1713767994, 'radiant_team_id': 8936507, 'radiant_name': 'FenixTeam', 'dire_team_id': 8893837, 'dire_name': 'Parallel eSports', 'leagueid': 16312, 'league_name': 'Ancients League', 'series_id': 870801, 'series_type': 1, 'radiant_score': 18, 'dire_score': 41, 'radiant_win': False, 'version': 21}, {'match_id': 7698652838, 'duration': 2009, 'start_time': 1713767736, 'radiant_team_id': 8629014, 'radiant_name': 'Dragon Blood', 'dire_team_id': 8629324, 'dire_name': 'Swift Knights', 'leagueid': 16059, 'league_name': 'Destiny League', 'series_id': 870800, 'series_type': 1, 'radiant_score': 38, 'dire_score': 31, 'radiant_win': True, 'version': 21}, {'match_id': 7698640893, 'duration': 1796, 'start_time': 1713766710, 'radiant_team_id': 9395676, 'radiant_name': 'Shinigami gaming', 'dire_team_id': 9088071, 'dire_name': 'EYE Gaming', 'leagueid': 15901, 'league_name': 'Ultras Dota Pro League  2023-24', 'series_id': 870199, 'series_type': 1, 'radiant_score': 41, 'dire_score': 23, 'radiant_win': True, 'version': 21}, {'match_id': 7698632424, 'duration': 1683, 'start_time': 1713766069, 'radiant_team_id': 9018543, 'radiant_name': 'Hustlers', 'dire_team_id': 9332059, 'dire_name': 'Ninja Bros', 'leagueid': 16312, 'league_name': 'Ancients League', 'series_id': 870797, 'series_type': 1, 'radiant_score': 18, 'dire_score': 16, 'radiant_win': False, 'version': 21}, {'match_id': 7698629382, 'duration': 1525, 'start_time': 1713765842, 'radiant_team_id': 8893837, 'radiant_name': 'Parallel eSports', 'dire_team_id': 8936507, 'dire_name': 'FenixTeam', 'leagueid': 16312, 'league_name': 'Ancients League', 'series_id': 870801, 'series_type': 1, 'radiant_score': 34, 'dire_score': 14, 'radiant_win': True, 'version': 21}, {'match_id': 7698622403, 'duration': 1749, 'start_time': 1713765288, 'radiant_team_id': 9005019, 'radiant_name': 'IHC', 'dire_team_id': 9389381, 'dire_name': 'Team  KEV', 'leagueid': 16586, 'league_name': 'Kobolds Rave 2', 'series_id': 870796, 'series_type': 1, 'radiant_score': 35, 'dire_score': 20, 'radiant_win': True, 'version': 21}, {'match_id': 7698616930, 'duration': 2049, 'start_time': 1713764933, 'radiant_team_id': 8629324, 'radiant_name': 'Swift Knights', 'dire_team_id': 8629014, 'dire_name': 'Dragon Blood', 'leagueid': 16059, 'league_name': 'Destiny League', 'series_id': 870800, 'series_type': 1, 'radiant_score': 24, 'dire_score': 39, 'radiant_win': False, 'version': 21}, {'match_id': 7698601481, 'duration': 1764, 'start_time': 1713763798, 'radiant_team_id': 9088071, 'radiant_name': 'EYE Gaming', 'dire_team_id': 9395679, 'dire_name': 'Shinigami Gaming', 'leagueid': 15901, 'league_name': 'Ultras Dota Pro League  2023-24', 'series_id': 870799, 'series_type': 1, 'radiant_score': 40, 'dire_score': 25, 'radiant_win': True, 'version': 21}, {'match_id': 7698595473, 'duration': 1753, 'start_time': 1713763156, 'radiant_team_id': 9332059, 'radiant_name': 'Ninja Bros', 'dire_team_id': 9018543, 'dire_name': 'Hustlers', 'leagueid': 16312, 'league_name': 'Ancients League', 'series_id': 870797, 'series_type': 1, 'radiant_score': 23, 'dire_score': 31, 'radiant_win': False, 'version': 21}, {'match_id': 7698592711, 'duration': 1984, 'start_time': 1713762939, 'radiant_team_id': 9330489, 'radiant_name': 'ThunderLab', 'dire_team_id': 8864178, 'dire_name': 'Marvelous Warriors', 'leagueid': 16312, 'league_name': 'Ancients League', 'series_id': 870793, 'series_type': 1, 'radiant_score': 30, 'dire_score': 34, 'radiant_win': False, 'version': 21}, {'match_id': 7698580859, 'duration': 1683, 'start_time': 1713762259, 'radiant_team_id': 9389381, 'radiant_name': 'Team  KEV', 'dire_team_id': 9005019, 'dire_name': 'IHC', 'leagueid': 16586, 'league_name': 'Kobolds Rave 2', 'series_id': 870796, 'series_type': 1, 'radiant_score': 11, 'dire_score': 32, 'radiant_win': False, 'version': 21}, {'match_id': 7698579573, 'duration': 1830, 'start_time': 1713761934, 'radiant_team_id': 8629327, 'radiant_name': 'Sworn Die', 'dire_team_id': 8629005, 'dire_name': 'Flawless Goblins', 'leagueid': 16059, 'league_name': 'Destiny League', 'series_id': 870795, 'series_type': 1, 'radiant_score': 16, 'dire_score': 34, 'radiant_win': False, 'version': 21}, {'match_id': 7698567802, 'duration': 1421, 'start_time': 1713760950, 'radiant_team_id': 8864178, 'radiant_name': 'Marvelous Warriors', 'dire_team_id': 9330489, 'dire_name': 'ThunderLab', 'leagueid': 16312, 'league_name': 'Ancients League', 'series_id': 870793, 'series_type': 1, 'radiant_score': 10, 'dire_score': 24, 'radiant_win': False, 'version': 21}, {'match_id': 7698558784, 'duration': 1738, 'start_time': 1713760230, 'radiant_team_id': 9330492, 'radiant_name': 'Iconic', 'dire_team_id': 8893825, 'dire_name': 'Lucky Bulldogs', 'leagueid': 16312, 'league_name': 'Ancients League', 'series_id': 870785, 'series_type': 1, 'radiant_score': 41, 'dire_score': 24, 'radiant_win': True, 'version': 21}, {'match_id': 7698541953, 'duration': 2212, 'start_time': 1713758946, 'radiant_team_id': 8629005, 'radiant_name': 'Flawless Goblins', 'dire_team_id': 8629327, 'dire_name': 'Sworn Die', 'leagueid': 16059, 'league_name': 'Destiny League', 'series_id': 870794, 'series_type': 1, 'radiant_score': 35, 'dire_score': 26, 'radiant_win': True, 'version': 21}, {'match_id': 7698540273, 'duration': 1592, 'start_time': 1713758759, 'radiant_team_id': 9330489, 'radiant_name': 'ThunderLab', 'dire_team_id': 8864178, 'dire_name': 'Marvelous Warriors', 'leagueid': 16312, 'league_name': 'Ancients League', 'series_id': 870793, 'series_type': 1, 'radiant_score': 36, 'dire_score': 46, 'radiant_win': False, 'version': 21}, {'match_id': 7698520463, 'duration': 2527, 'start_time': 1713757150, 'radiant_team_id': 8893825, 'radiant_name': 'Lucky Bulldogs', 'dire_team_id': 9330492, 'dire_name': 'Iconic', 'leagueid': 16312, 'league_name': 'Ancients League', 'series_id': 870785, 'series_type': 1, 'radiant_score': 36, 'dire_score': 35, 'radiant_win': True, 'version': 21}, {'match_id': 7698492884, 'duration': 1672, 'start_time': 1713754901, 'radiant_team_id': 9330492, 'radiant_name': 'Iconic', 'dire_team_id': 8893825, 'dire_name': 'Lucky Bulldogs', 'leagueid': 16312, 'league_name': 'Ancients League', 'series_id': 870785, 'series_type': 1, 'radiant_score': 21, 'dire_score': 13, 'radiant_win': True, 'version': 21}, {'match_id': 7698433885, 'duration': 2015, 'start_time': 1713750140, 'radiant_team_id': 8957156, 'radiant_name': 'Silent killer', 'dire_team_id': 9005364, 'dire_name': 'Night Vision', 'leagueid': 16109, 'league_name': 'Dota 2 Space League', 'series_id': 870745, 'series_type': 1, 'radiant_score': 22, 'dire_score': 25, 'radiant_win': False, 'version': 21}, {'match_id': 7698402956, 'duration': 1925, 'start_time': 1713747344, 'radiant_team_id': 9005364, 'radiant_name': 'Night Vision', 'dire_team_id': 8957156, 'dire_name': 'Silent killer', 'leagueid': 16109, 'league_name': 'Dota 2 Space League', 'series_id': 870745, 'series_type': 1, 'radiant_score': 27, 'dire_score': 32, 'radiant_win': False, 'version': 21}, {'match_id': 7698373795, 'duration': 2132, 'start_time': 1713744649, 'radiant_team_id': 8957156, 'radiant_name': 'Silent killer', 'dire_team_id': 9005364, 'dire_name': 'Night Vision', 'leagueid': 16109, 'league_name': 'Dota 2 Space League', 'series_id': 870745, 'series_type': 1, 'radiant_score': 32, 'dire_score': 32, 'radiant_win': False, 'version': 21}, {'match_id': 7698335938, 'duration': 2023, 'start_time': 1713741468, 'radiant_team_id': 8849837, 'radiant_name': 'FALL VICTIMS', 'dire_team_id': 8849833, 'dire_name': 'VERTEX PACK', 'leagueid': 16109, 'league_name': 'Dota 2 Space League', 'series_id': 870735, 'series_type': 1, 'radiant_score': 32, 'dire_score': 30, 'radiant_win': False, 'version': 21}, {'match_id': 7698299877, 'duration': 1728, 'start_time': 1713738873, 'radiant_team_id': 8849833, 'radiant_name': 'VERTEX PACK', 'dire_team_id': 8849837, 'dire_name': 'FALL VICTIMS', 'leagueid': 16109, 'league_name': 'Dota 2 Space League', 'series_id': 870735, 'series_type': 1, 'radiant_score': 22, 'dire_score': 12, 'radiant_win': True, 'version': 21}, {'match_id': 7698256700, 'duration': 1783, 'start_time': 1713736157, 'radiant_team_id': 8849837, 'radiant_name': 'FALL VICTIMS', 'dire_team_id': 8849833, 'dire_name': 'VERTEX PACK', 'leagueid': 16109, 'league_name': 'Dota 2 Space League', 'series_id': 870735, 'series_type': 1, 'radiant_score': 27, 'dire_score': 20, 'radiant_win': True, 'version': 21}, {'match_id': 7698202169, 'duration': 1794, 'start_time': 1713733201, 'radiant_team_id': 8849990, 'radiant_name': 'REAL ECLIPSE', 'dire_team_id': 8849850, 'dire_name': 'HELLBEAR HEROES', 'leagueid': 16109, 'league_name': 'Dota 2 Space League', 'series_id': 870718, 'series_type': 1, 'radiant_score': 15, 'dire_score': 21, 'radiant_win': False, 'version': 21}, {'match_id': 7698150144, 'duration': 1789, 'start_time': 1713730753, 'radiant_team_id': 8849850, 'radiant_name': 'HELLBEAR HEROES', 'dire_team_id': 8849990, 'dire_name': 'REAL ECLIPSE', 'leagueid': 16109, 'league_name': 'Dota 2 Space League', 'series_id': 870718, 'series_type': 1, 'radiant_score': 40, 'dire_score': 25, 'radiant_win': True, 'version': 21}, {'match_id': 7698076452, 'duration': 2068, 'start_time': 1713727864, 'radiant_team_id': 8697185, 'radiant_name': 'Fantasy Gaming', 'dire_team_id': 8737621, 'dire_name': 'Lava Esports ', 'leagueid': 15899, 'league_name': 'EPL World Series: America 2023-2024 Season ', 'series_id': 870700, 'series_type': 0, 'radiant_score': 37, 'dire_score': 24, 'radiant_win': True, 'version': 21}, {'match_id': 7697951432, 'duration': 1948, 'start_time': 1713723679, 'radiant_team_id': 8697185, 'radiant_name': 'Fantasy Gaming', 'dire_team_id': 9352634, 'dire_name': 'Acatsuki', 'leagueid': 15899, 'league_name': 'EPL World Series: America 2023-2024 Season ', 'series_id': 870668, 'series_type': 0, 'radiant_score': 34, 'dire_score': 14, 'radiant_win': True, 'version': 21}, {'match_id': 7697858128, 'duration': 2425, 'start_time': 1713719991, 'radiant_team_id': 9338413, 'radiant_name': 'MOUZ', 'dire_team_id': 9017006, 'dire_name': 'NAVI Junior', 'leagueid': 15898, 'league_name': 'European Pro League  2023-2024 Season', 'series_id': 870560, 'series_type': 2, 'radiant_score': 19, 'dire_score': 34, 'radiant_win': False, 'version': 21}, {'match_id': 7697820598, 'duration': 2212, 'start_time': 1713719376, 'radiant_team_id': 8737621, 'radiant_name': 'Lava Esports ', 'dire_team_id': 9352634, 'dire_name': 'Acatsuki', 'leagueid': 15899, 'league_name': 'EPL World Series: America 2023-2024 Season ', 'series_id': 870621, 'series_type': 0, 'radiant_score': 16, 'dire_score': 42, 'radiant_win': False, 'version': 21}, {'match_id': 7697708416, 'duration': 2882, 'start_time': 1713715823, 'radiant_team_id': 9338413, 'radiant_name': 'MOUZ', 'dire_team_id': 9017006, 'dire_name': 'NAVI Junior', 'leagueid': 15898, 'league_name': 'European Pro League  2023-2024 Season', 'series_id': 870560, 'series_type': 2, 'radiant_score': 39, 'dire_score': 50, 'radiant_win': True, 'version': 21}, {'match_id': 7697614700, 'duration': 2186, 'start_time': 1713713372, 'radiant_team_id': 9175409, 'radiant_name': 'MarsBet Team', 'dire_team_id': 8376696, 'dire_name': 'One Move', 'leagueid': 16290, 'league_name': 'WINLINE InSight Season 5', 'series_id': 870562, 'series_type': 1, 'radiant_score': 12, 'dire_score': 25, 'radiant_win': False, 'version': 21}, {'match_id': 7697572847, 'duration': 2263, 'start_time': 1713711781, 'radiant_team_id': 9338413, 'radiant_name': 'MOUZ', 'dire_team_id': 9017006, 'dire_name': 'NAVI Junior', 'leagueid': 15898, 'league_name': 'European Pro League  2023-2024 Season', 'series_id': 870560, 'series_type': 2, 'radiant_score': 11, 'dire_score': 30, 'radiant_win': False, 'version': 21}, {'match_id': 7697422573, 'duration': 3488, 'start_time': 1713708162, 'radiant_team_id': 8376696, 'radiant_name': 'One Move', 'dire_team_id': 9175409, 'dire_name': 'MarsBet Team', 'leagueid': 16290, 'league_name': 'WINLINE InSight Season 5', 'series_id': 870562, 'series_type': 1, 'radiant_score': 21, 'dire_score': 19, 'radiant_win': True, 'version': 21}, {'match_id': 7697412247, 'duration': 2316, 'start_time': 1713707978, 'radiant_team_id': 9338413, 'radiant_name': 'MOUZ', 'dire_team_id': 9017006, 'dire_name': 'NAVI Junior', 'leagueid': 15898, 'league_name': 'European Pro League  2023-2024 Season', 'series_id': 870560, 'series_type': 2, 'radiant_score': 17, 'dire_score': 40, 'radiant_win': False, 'version': 21}, {'match_id': 7697355182, 'duration': 2951, 'start_time': 1713706528, 'radiant_team_id': 7915344, 'radiant_name': 'SÖLAN E-Sports', 'dire_team_id': 9098294, 'dire_name': 'Carstensz Esports', 'leagueid': 15890, 'league_name': 'TDL SEA Pro Series 2024 Season 1', 'series_id': 870530, 'series_type': 1, 'radiant_score': 25, 'dire_score': 55, 'radiant_win': False, 'version': 21}, {'match_id': 7697226325, 'duration': 2860, 'start_time': 1713703267, 'radiant_team_id': 5014799, 'radiant_name': 'Nemiga Gaming', 'dire_team_id': 9373270, 'dire_name': 'Night Pulse', 'leagueid': 16290, 'league_name': 'WINLINE InSight Season 5', 'series_id': 870522, 'series_type': 1, 'radiant_score': 27, 'dire_score': 25, 'radiant_win': False, 'version': 21}, {'match_id': 7697191124, 'duration': 2674, 'start_time': 1713702133, 'radiant_team_id': 9098294, 'radiant_name': 'Carstensz Esports', 'dire_team_id': 7915344, 'dire_name': 'SÖLAN E-Sports', 'leagueid': 15890, 'league_name': 'TDL SEA Pro Series 2024 Season 1', 'series_id': 870530, 'series_type': 1, 'radiant_score': 58, 'dire_score': 31, 'radiant_win': True, 'version': 21}, {'match_id': 7697085510, 'duration': 1663, 'start_time': 1713699195, 'radiant_team_id': 7915344, 'radiant_name': 'SÖLAN E-Sports', 'dire_team_id': 9098294, 'dire_name': 'Carstensz Esports', 'leagueid': 15890, 'league_name': 'TDL SEA Pro Series 2024 Season 1', 'series_id': 870530, 'series_type': 1, 'radiant_score': 25, 'dire_score': 19, 'radiant_win': True, 'version': 21}, {'match_id': 7697022420, 'duration': 4016, 'start_time': 1713697341, 'radiant_team_id': 5014799, 'radiant_name': 'Nemiga Gaming', 'dire_team_id': 9373270, 'dire_name': 'Night Pulse', 'leagueid': 16290, 'league_name': 'WINLINE InSight Season 5', 'series_id': 870522, 'series_type': 1, 'radiant_score': 45, 'dire_score': 39, 'radiant_win': False, 'version': 21}, {'match_id': 7697021788, 'duration': 2711, 'start_time': 1713697155, 'radiant_team_id': 9338413, 'radiant_name': 'MOUZ', 'dire_team_id': 2576071, 'dire_name': 'Yellow Submarine', 'leagueid': 15898, 'league_name': 'European Pro League  2023-2024 Season', 'series_id': 870510, 'series_type': 1, 'radiant_score': 34, 'dire_score': 24, 'radiant_win': True, 'version': 21}, {'match_id': 7696907501, 'duration': 2175, 'start_time': 1713693540, 'radiant_team_id': 2576071, 'radiant_name': 'Yellow Submarine', 'dire_team_id': 9338413, 'dire_name': 'MOUZ', 'leagueid': 15898, 'league_name': 'European Pro League  2023-2024 Season', 'series_id': 870510, 'series_type': 1, 'radiant_score': 12, 'dire_score': 29, 'radiant_win': False, 'version': 21}, {'match_id': 7696817753, 'duration': 2345, 'start_time': 1713690212, 'radiant_team_id': 9254408, 'radiant_name': 'The Immortal', 'dire_team_id': 9098294, 'dire_name': 'Carstensz Esports', 'leagueid': 15890, 'league_name': 'TDL SEA Pro Series 2024 Season 1', 'series_id': 870487, 'series_type': 1, 'radiant_score': 21, 'dire_score': 44, 'radiant_win': False, 'version': 21}, {'match_id': 7696815464, 'duration': 2457, 'start_time': 1713690207, 'radiant_team_id': 9088071, 'radiant_name': 'EYE Gaming', 'dire_team_id': 9395679, 'dire_name': 'Shinigami Gaming', 'leagueid': 15901, 'league_name': 'Ultras Dota Pro League  2023-24', 'series_id': 870484, 'series_type': 1, 'radiant_score': 55, 'dire_score': 49, 'radiant_win': False, 'version': 21}, {'match_id': 7696787052, 'duration': 1845, 'start_time': 1713689206, 'radiant_team_id': 9247046, 'radiant_name': 'Dark Horse', 'dire_team_id': 9409659, 'dire_name': 'spiky gaming', 'leagueid': 16586, 'league_name': 'Kobolds Rave 2', 'series_id': 870503, 'series_type': 1, 'radiant_score': 6, 'dire_score': 27, 'radiant_win': False, 'version': 21}, {'match_id': 7696760446, 'duration': 1674, 'start_time': 1713688160, 'radiant_team_id': 8629327, 'radiant_name': 'Sworn Die', 'dire_team_id': 8629317, 'dire_name': 'Bright Crusaders', 'leagueid': 16059, 'league_name': 'Destiny League', 'series_id': 870490, 'series_type': 1, 'radiant_score': 40, 'dire_score': 23, 'radiant_win': True, 'version': 21}, {'match_id': 7696718270, 'duration': 2206, 'start_time': 1713686591, 'radiant_team_id': 9395679, 'radiant_name': 'Shinigami Gaming', 'dire_team_id': 9088071, 'dire_name': 'EYE Gaming', 'leagueid': 15901, 'league_name': 'Ultras Dota Pro League  2023-24', 'series_id': 870484, 'series_type': 1, 'radiant_score': 40, 'dire_score': 61, 'radiant_win': False, 'version': 21}, {'match_id': 7696705049, 'duration': 1841, 'start_time': 1713686092, 'radiant_team_id': 9409659, 'radiant_name': 'spiky gaming', 'dire_team_id': 9247046, 'dire_name': 'Dark Horse', 'leagueid': 16586, 'league_name': 'Kobolds Rave 2', 'series_id': 870493, 'series_type': 1, 'radiant_score': 30, 'dire_score': 10, 'radiant_win': True, 'version': 21}]\n"
     ]
    }
   ],
   "source": [
    "def get_pro_macthes(match_id)\n",
    "endpoint = 'https://api.opendota.com/api/proMatches?'\n",
    "\n",
    "response = requests.get(endpoint)\n",
    "if response.status_code == 200:\n",
    "    pro_matches = response.json()\n",
    "    print(pro_matches)\n",
    "else:\n",
    "    print('Failed to retrieve pro matches:', response.status_code)"
   ]
  },
  {
   "cell_type": "code",
   "execution_count": null,
   "metadata": {
    "application/vnd.databricks.v1+cell": {
     "cellMetadata": {
      "byteLimit": 2048000,
      "rowLimit": 10000
     },
     "inputWidgets": {},
     "nuid": "24b544a3-fcd9-43c5-8603-9a19bdb8fc39",
     "showTitle": false,
     "title": ""
    }
   },
   "outputs": [
    {
     "name": "stdout",
     "output_type": "stream",
     "text": [
      "100\n",
      "Data collected =  100\n",
      "100\n"
     ]
    },
    {
     "name": "stderr",
     "output_type": "stream",
     "text": [
      "<command-436461412861965>:13: FutureWarning: The frame.append method is deprecated and will be removed from pandas in a future version. Use pandas.concat instead.\n",
      "  promatches_df = promatches_df.append(data_df)\n"
     ]
    },
    {
     "name": "stdout",
     "output_type": "stream",
     "text": [
      "Data collected =  200\n"
     ]
    },
    {
     "name": "stderr",
     "output_type": "stream",
     "text": [
      "<command-436461412861965>:13: FutureWarning: The frame.append method is deprecated and will be removed from pandas in a future version. Use pandas.concat instead.\n",
      "  promatches_df = promatches_df.append(data_df)\n"
     ]
    }
   ],
   "source": [
    "promatches_df = pd.DataFrame()\n",
    "match_id = 9999999999999\n",
    "while True:\n",
    "    endpoint = f'https://api.opendota.com/api/proMatches?less_than_match_id={match_id}'\n",
    "    \n",
    "    response = requests.get(endpoint)\n",
    "    if response.status_code == 200:\n",
    "        pro_matches_json = response.json()\n",
    "        print(len(pro_matches_json))\n",
    "        if len(pro_matches_json) == 0:\n",
    "            break\n",
    "        data_df = pd.DataFrame(pro_matches_json)\n",
    "        promatches_df = promatches_df.append(data_df)\n",
    "    else:\n",
    "        print('Failed to retrieve pro matches:', response.status_code)\n",
    "        break\n",
    "    \n",
    "    \n",
    "    print('Data collected = ', len(promatches_df))\n",
    "    if len(promatches_df) > 500 or promatches_df['match_id'].min() < top_match_id:\n",
    "        break\n",
    "\n",
    "    match_id = promatches_df['match_id'].min()"
   ]
  },
  {
   "cell_type": "code",
   "execution_count": null,
   "metadata": {
    "application/vnd.databricks.v1+cell": {
     "cellMetadata": {
      "byteLimit": 2048000,
      "rowLimit": 10000
     },
     "inputWidgets": {},
     "nuid": "06ee7765-f1ec-4637-ad38-1171ac966164",
     "showTitle": false,
     "title": ""
    }
   },
   "outputs": [
    {
     "name": "stdout",
     "output_type": "stream",
     "text": [
      "Out[22]: 7693019017"
     ]
    }
   ],
   "source": [
    "promatches_df['match_id'].min()"
   ]
  },
  {
   "cell_type": "code",
   "execution_count": null,
   "metadata": {
    "application/vnd.databricks.v1+cell": {
     "cellMetadata": {
      "byteLimit": 2048000,
      "rowLimit": 10000
     },
     "inputWidgets": {},
     "nuid": "f744fc48-5198-4c76-addf-83d36233f545",
     "showTitle": false,
     "title": ""
    }
   },
   "outputs": [
    {
     "name": "stdout",
     "output_type": "stream",
     "text": [
      "Out[23]: 7694225732"
     ]
    }
   ],
   "source": [
    "top_match_id"
   ]
  },
  {
   "cell_type": "code",
   "execution_count": null,
   "metadata": {
    "application/vnd.databricks.v1+cell": {
     "cellMetadata": {
      "byteLimit": 2048000,
      "rowLimit": 10000
     },
     "inputWidgets": {},
     "nuid": "6ae55216-4575-43d7-8495-51ac6bff82ad",
     "showTitle": false,
     "title": ""
    }
   },
   "outputs": [],
   "source": [
    "filtered_pro_matches = [pro_match for index, pro_match in promatches_df.iterrows() if pro_match['match_id'] > top_match_id]"
   ]
  },
  {
   "cell_type": "code",
   "execution_count": null,
   "metadata": {
    "application/vnd.databricks.v1+cell": {
     "cellMetadata": {
      "byteLimit": 2048000,
      "rowLimit": 10000
     },
     "inputWidgets": {},
     "nuid": "a08cd323-f1eb-4a17-b3a5-ed28cc429446",
     "showTitle": false,
     "title": ""
    }
   },
   "outputs": [],
   "source": [
    "def fetch_match_details(match_id):\n",
    "    url = f\"https://api.opendota.com/api/matches/{match_id}\"\n",
    "    response = requests.get(url)\n",
    "    if response.status_code == 200:\n",
    "        return response.json()\n",
    "    else:\n",
    "        print(f\"Failed to fetch details for match_id {match_id} response code[{response.status_code}]\")\n",
    "        return None\n",
    "    "
   ]
  },
  {
   "cell_type": "code",
   "execution_count": null,
   "metadata": {
    "application/vnd.databricks.v1+cell": {
     "cellMetadata": {
      "byteLimit": 2048000,
      "rowLimit": 10000
     },
     "inputWidgets": {},
     "nuid": "dff905bf-89a7-4f79-b186-12be954d1c1f",
     "showTitle": false,
     "title": ""
    }
   },
   "outputs": [],
   "source": [
    "draft_timing_final_df = None\n",
    "objectives_match_final_df = None\n",
    "match_stats_final_df = None \n",
    "player_match_final_df = None\n",
    "player_item_time_final_df = None\n",
    "player_stats_time_final_df = None\n",
    "match_details_final_df = None\n"
   ]
  },
  {
   "cell_type": "code",
   "execution_count": null,
   "metadata": {
    "application/vnd.databricks.v1+cell": {
     "cellMetadata": {
      "byteLimit": 2048000,
      "rowLimit": 10000
     },
     "inputWidgets": {},
     "nuid": "38c4d9e3-93ba-49e4-ab02-7fb38795142c",
     "showTitle": false,
     "title": ""
    }
   },
   "outputs": [
    {
     "name": "stdout",
     "output_type": "stream",
     "text": [
      "processing ======  1 / 168   0.5952380952380952 %\n",
      "processing ======  2 / 168   1.1904761904761905 %\n",
      "processing ======  3 / 168   1.7857142857142856 %\n",
      "processing ======  4 / 168   2.380952380952381 %\n",
      "processing ======  5 / 168   2.976190476190476 %\n",
      "processing ======  6 / 168   3.571428571428571 %\n",
      "processing ======  7 / 168   4.166666666666666 %\n",
      "processing ======  8 / 168   4.761904761904762 %\n",
      "processing ======  9 / 168   5.357142857142857 %\n",
      "processing ======  10 / 168   5.952380952380952 %\n",
      "processing ======  11 / 168   6.547619047619048 %\n",
      "processing ======  12 / 168   7.142857142857142 %\n",
      "processing ======  13 / 168   7.738095238095238 %\n",
      "processing ======  14 / 168   8.333333333333332 %\n",
      "processing ======  15 / 168   8.928571428571429 %\n",
      "processing ======  16 / 168   9.523809523809524 %\n",
      "processing ======  17 / 168   10.119047619047619 %\n",
      "processing ======  18 / 168   10.714285714285714 %\n",
      "processing ======  19 / 168   11.30952380952381 %\n",
      "processing ======  20 / 168   11.904761904761903 %\n",
      "processing ======  21 / 168   12.5 %\n",
      "processing ======  22 / 168   13.095238095238097 %\n",
      "processing ======  23 / 168   13.690476190476192 %\n",
      "processing ======  24 / 168   14.285714285714285 %\n",
      "processing ======  25 / 168   14.880952380952381 %\n",
      "processing ======  26 / 168   15.476190476190476 %\n",
      "processing ======  27 / 168   16.071428571428573 %\n",
      "processing ======  28 / 168   16.666666666666664 %\n",
      "processing ======  29 / 168   17.261904761904763 %\n",
      "processing ======  30 / 168   17.857142857142858 %\n",
      "processing ======  31 / 168   18.452380952380953 %\n",
      "processing ======  32 / 168   19.047619047619047 %\n",
      "processing ======  33 / 168   19.642857142857142 %\n",
      "processing ======  34 / 168   20.238095238095237 %\n",
      "processing ======  35 / 168   20.833333333333336 %\n",
      "processing ======  36 / 168   21.428571428571427 %\n",
      "processing ======  37 / 168   22.023809523809522 %\n",
      "processing ======  38 / 168   22.61904761904762 %\n",
      "processing ======  39 / 168   23.214285714285715 %\n",
      "processing ======  40 / 168   23.809523809523807 %\n",
      "processing ======  41 / 168   24.404761904761905 %\n",
      "processing ======  42 / 168   25.0 %\n",
      "processing ======  43 / 168   25.595238095238095 %\n",
      "processing ======  44 / 168   26.190476190476193 %\n",
      "processing ======  45 / 168   26.785714285714285 %\n",
      "processing ======  46 / 168   27.380952380952383 %\n",
      "processing ======  47 / 168   27.976190476190478 %\n",
      "processing ======  48 / 168   28.57142857142857 %\n",
      "processing ======  49 / 168   29.166666666666668 %\n",
      "processing ======  50 / 168   29.761904761904763 %\n",
      "processing ======  51 / 168   30.357142857142854 %\n",
      "processing ======  52 / 168   30.952380952380953 %\n",
      "processing ======  53 / 168   31.547619047619047 %\n",
      "processing ======  54 / 168   32.142857142857146 %\n",
      "processing ======  55 / 168   32.73809523809524 %\n",
      "processing ======  56 / 168   33.33333333333333 %\n",
      "processing ======  57 / 168   33.92857142857143 %\n",
      "processing ======  58 / 168   34.523809523809526 %\n",
      "processing ======  59 / 168   35.11904761904761 %\n",
      "processing ======  60 / 168   35.714285714285715 %\n",
      "processing ======  61 / 168   36.30952380952381 %\n",
      "processing ======  62 / 168   36.904761904761905 %\n",
      "processing ======  63 / 168   37.5 %\n",
      "processing ======  64 / 168   38.095238095238095 %\n",
      "processing ======  65 / 168   38.69047619047619 %\n",
      "processing ======  66 / 168   39.285714285714285 %\n",
      "processing ======  67 / 168   39.88095238095239 %\n",
      "processing ======  68 / 168   40.476190476190474 %\n",
      "processing ======  69 / 168   41.07142857142857 %\n",
      "processing ======  70 / 168   41.66666666666667 %\n",
      "processing ======  71 / 168   42.26190476190476 %\n",
      "processing ======  72 / 168   42.857142857142854 %\n",
      "processing ======  73 / 168   43.452380952380956 %\n",
      "processing ======  74 / 168   44.047619047619044 %\n",
      "processing ======  75 / 168   44.642857142857146 %\n",
      "processing ======  76 / 168   45.23809523809524 %\n",
      "processing ======  77 / 168   45.83333333333333 %\n",
      "processing ======  78 / 168   46.42857142857143 %\n",
      "processing ======  79 / 168   47.023809523809526 %\n",
      "processing ======  80 / 168   47.61904761904761 %\n",
      "processing ======  81 / 168   48.214285714285715 %\n",
      "processing ======  82 / 168   48.80952380952381 %\n",
      "processing ======  83 / 168   49.404761904761905 %\n",
      "processing ======  84 / 168   50.0 %\n",
      "processing ======  85 / 168   50.595238095238095 %\n",
      "processing ======  86 / 168   51.19047619047619 %\n",
      "processing ======  87 / 168   51.78571428571429 %\n",
      "processing ======  88 / 168   52.38095238095239 %\n",
      "processing ======  89 / 168   52.976190476190474 %\n",
      "processing ======  90 / 168   53.57142857142857 %\n",
      "processing ======  91 / 168   54.166666666666664 %\n",
      "processing ======  92 / 168   54.761904761904766 %\n",
      "processing ======  93 / 168   55.35714285714286 %\n",
      "processing ======  94 / 168   55.952380952380956 %\n",
      "processing ======  95 / 168   56.547619047619044 %\n",
      "processing ======  96 / 168   57.14285714285714 %\n",
      "processing ======  97 / 168   57.738095238095234 %\n",
      "processing ======  98 / 168   58.333333333333336 %\n",
      "processing ======  99 / 168   58.92857142857143 %\n",
      "processing ======  100 / 168   59.523809523809526 %\n",
      "Failed to fetch details for match_id 7696787052 response code[500]\n",
      "processing ======  101 / 168   60.11904761904761 %\n",
      "processing ======  102 / 168   60.71428571428571 %\n",
      "processing ======  103 / 168   61.30952380952381 %\n",
      "processing ======  104 / 168   61.904761904761905 %\n",
      "processing ======  105 / 168   62.5 %\n",
      "processing ======  106 / 168   63.095238095238095 %\n",
      "processing ======  107 / 168   63.69047619047619 %\n",
      "processing ======  108 / 168   64.28571428571429 %\n",
      "processing ======  109 / 168   64.88095238095238 %\n",
      "processing ======  110 / 168   65.47619047619048 %\n",
      "processing ======  111 / 168   66.07142857142857 %\n",
      "processing ======  112 / 168   66.66666666666666 %\n",
      "processing ======  113 / 168   67.26190476190477 %\n",
      "processing ======  114 / 168   67.85714285714286 %\n",
      "processing ======  115 / 168   68.45238095238095 %\n",
      "processing ======  116 / 168   69.04761904761905 %\n",
      "processing ======  117 / 168   69.64285714285714 %\n",
      "processing ======  118 / 168   70.23809523809523 %\n",
      "processing ======  119 / 168   70.83333333333334 %\n",
      "processing ======  120 / 168   71.42857142857143 %\n",
      "processing ======  121 / 168   72.02380952380952 %\n",
      "processing ======  122 / 168   72.61904761904762 %\n",
      "processing ======  123 / 168   73.21428571428571 %\n",
      "processing ======  124 / 168   73.80952380952381 %\n",
      "processing ======  125 / 168   74.40476190476191 %\n",
      "processing ======  126 / 168   75.0 %\n",
      "processing ======  127 / 168   75.59523809523809 %\n",
      "processing ======  128 / 168   76.19047619047619 %\n",
      "processing ======  129 / 168   76.78571428571429 %\n",
      "processing ======  130 / 168   77.38095238095238 %\n",
      "processing ======  131 / 168   77.97619047619048 %\n",
      "processing ======  132 / 168   78.57142857142857 %\n",
      "processing ======  133 / 168   79.16666666666666 %\n",
      "processing ======  134 / 168   79.76190476190477 %\n",
      "processing ======  135 / 168   80.35714285714286 %\n",
      "processing ======  136 / 168   80.95238095238095 %\n",
      "processing ======  137 / 168   81.54761904761905 %\n",
      "processing ======  138 / 168   82.14285714285714 %\n",
      "processing ======  139 / 168   82.73809523809523 %\n",
      "processing ======  140 / 168   83.33333333333334 %\n",
      "processing ======  141 / 168   83.92857142857143 %\n",
      "processing ======  142 / 168   84.52380952380952 %\n",
      "processing ======  143 / 168   85.11904761904762 %\n",
      "processing ======  144 / 168   85.71428571428571 %\n",
      "processing ======  145 / 168   86.30952380952381 %\n",
      "processing ======  146 / 168   86.90476190476191 %\n",
      "processing ======  147 / 168   87.5 %\n",
      "processing ======  148 / 168   88.09523809523809 %\n",
      "processing ======  149 / 168   88.69047619047619 %\n",
      "processing ======  150 / 168   89.28571428571429 %\n",
      "processing ======  151 / 168   89.88095238095238 %\n",
      "processing ======  152 / 168   90.47619047619048 %\n",
      "processing ======  153 / 168   91.07142857142857 %\n",
      "processing ======  154 / 168   91.66666666666666 %\n",
      "processing ======  155 / 168   92.26190476190477 %\n",
      "processing ======  156 / 168   92.85714285714286 %\n",
      "processing ======  157 / 168   93.45238095238095 %\n",
      "processing ======  158 / 168   94.04761904761905 %\n",
      "processing ======  159 / 168   94.64285714285714 %\n",
      "processing ======  160 / 168   95.23809523809523 %\n",
      "processing ======  161 / 168   95.83333333333334 %\n",
      "processing ======  162 / 168   96.42857142857143 %\n",
      "processing ======  163 / 168   97.02380952380952 %\n",
      "processing ======  164 / 168   97.61904761904762 %\n",
      "processing ======  165 / 168   98.21428571428571 %\n",
      "processing ======  166 / 168   98.80952380952381 %\n",
      "processing ======  167 / 168   99.40476190476191 %\n",
      "processing ======  168 / 168   100.0 %\n"
     ]
    }
   ],
   "source": [
    "i = 1\n",
    "for match_det in filtered_pro_matches:\n",
    "    print('processing ====== ',i,'/',len(filtered_pro_matches), ' ', i/len(filtered_pro_matches) *100,'%')\n",
    "    match_detail = fetch_match_details(match_det['match_id'])\n",
    "    if match_detail:\n",
    "        draft_timings_df, objectives_df, match_stats_df, clean_players_df, player_item_time_df, player_stats_time_data_df, clean_match_df = extract_match_details(match_detail)\n",
    "\n",
    "        if draft_timing_final_df is not None:\n",
    "            draft_timing_final_df = pd.concat([draft_timing_final_df, draft_timings_df])\n",
    "        else:\n",
    "            draft_timing_final_df = draft_timings_df\n",
    "\n",
    "        if objectives_match_final_df is not None:\n",
    "            objectives_match_final_df = pd.concat([objectives_match_final_df, objectives_df])\n",
    "        else:\n",
    "            objectives_match_final_df = objectives_df\n",
    "        \n",
    "        if match_stats_final_df is not None:\n",
    "            match_stats_final_df = pd.concat([match_stats_final_df, match_stats_df])\n",
    "        else:\n",
    "            match_stats_final_df = match_stats_df\n",
    "        \n",
    "        if player_match_final_df is not None:\n",
    "            player_match_final_df = pd.concat([player_match_final_df, clean_players_df])\n",
    "        else:\n",
    "            player_match_final_df = clean_players_df\n",
    "        \n",
    "        if player_item_time_final_df is not None:\n",
    "            player_item_time_final_df = pd.concat([player_item_time_final_df, player_item_time_df])\n",
    "        else:\n",
    "            player_item_time_final_df = player_item_time_df\n",
    "        \n",
    "        if player_stats_time_final_df is not None:\n",
    "            player_stats_time_final_df = pd.concat([player_stats_time_final_df, player_stats_time_data_df])\n",
    "        else:\n",
    "            player_stats_time_final_df = player_stats_time_data_df\n",
    "        \n",
    "        if match_details_final_df is not None:\n",
    "            match_details_final_df = pd.concat([match_details_final_df, clean_match_df])\n",
    "        else:\n",
    "            match_details_final_df = clean_match_df\n",
    "    i += 1\n",
    "    time.sleep(0.5)"
   ]
  },
  {
   "cell_type": "code",
   "execution_count": null,
   "metadata": {
    "application/vnd.databricks.v1+cell": {
     "cellMetadata": {
      "byteLimit": 2048000,
      "rowLimit": 10000
     },
     "inputWidgets": {},
     "nuid": "0b26b4d7-7d4a-4d0c-9284-bb3cb1b56293",
     "showTitle": false,
     "title": ""
    }
   },
   "outputs": [
    {
     "name": "stderr",
     "output_type": "stream",
     "text": [
      "/databricks/spark/python/pyspark/sql/pandas/conversion.py:467: UserWarning: createDataFrame attempted Arrow optimization because 'spark.sql.execution.arrow.pyspark.enabled' is set to true; however, failed by the reason below:\n",
      "  Could not convert 'npc_dota_badguys_tower1_top' with type str: tried to convert to int64\n",
      "Attempting non-optimization as 'spark.sql.execution.arrow.pyspark.fallback.enabled' is set to true.\n",
      "  warn(msg)\n"
     ]
    }
   ],
   "source": [
    "draft_timing_spark = spark.createDataFrame(draft_timing_final_df)\n",
    "objectives_match_spark = spark.createDataFrame(objectives_match_final_df)\n",
    "match_stats_spark =  spark.createDataFrame(match_stats_final_df) \n",
    "player_match_spark = spark.createDataFrame(player_match_final_df)\n",
    "player_item_time_spark = spark.createDataFrame(player_item_time_final_df)\n",
    "player_stats_time_spark = spark.createDataFrame(player_stats_time_final_df)\n",
    "match_details_spark = spark.createDataFrame(match_details_final_df)"
   ]
  },
  {
   "cell_type": "code",
   "execution_count": null,
   "metadata": {
    "application/vnd.databricks.v1+cell": {
     "cellMetadata": {
      "byteLimit": 2048000,
      "rowLimit": 10000
     },
     "inputWidgets": {},
     "nuid": "a2a2da47-e368-40b9-bfe8-f8d9a0d9174f",
     "showTitle": false,
     "title": ""
    }
   },
   "outputs": [
    {
     "name": "stdout",
     "output_type": "stream",
     "text": [
      "+-----+-----+-----------+-------+-----------+----------+----------------+----------+\n",
      "|order| pick|active_team|hero_id|player_slot|extra_time|total_time_taken|  match_id|\n",
      "+-----+-----+-----------+-------+-----------+----------+----------------+----------+\n",
      "|    1|false|          3|    120|       null|       130|              16|7699602043|\n",
      "|    2|false|          2|     66|       null|       130|              19|7699602043|\n",
      "|    3|false|          2|    114|       null|       130|              12|7699602043|\n",
      "|    4|false|          3|     91|       null|       130|              12|7699602043|\n",
      "|    5|false|          2|     87|       null|       130|              19|7699602043|\n",
      "|    6|false|          2|     65|       null|       130|              45|7699602043|\n",
      "|    7|false|          3|     52|       null|       121|              30|7699602043|\n",
      "|    8| true|          3|     78|        6.0|       105|              18|7699602043|\n",
      "|    9| true|          2|     19|        3.0|       121|              37|7699602043|\n",
      "|   10|false|          3|     54|       null|       121|              25|7699602043|\n",
      "|   11|false|          3|     63|       null|        99|              29|7699602043|\n",
      "|   12|false|          2|     86|       null|        99|              22|7699602043|\n",
      "|   13| true|          2|      5|        0.0|       121|               1|7699602043|\n",
      "|   14| true|          3|     51|        7.0|       121|              28|7699602043|\n",
      "|   15| true|          3|     79|        8.0|        99|              80|7699602043|\n",
      "|   16| true|          2|     81|        1.0|        78|              51|7699602043|\n",
      "|   17| true|          2|     97|        2.0|        71|              43|7699602043|\n",
      "|   18| true|          3|     48|        5.0|        40|              60|7699602043|\n",
      "|   19|false|          3|     13|       null|        66|              40|7699602043|\n",
      "|   20|false|          2|     22|       null|        58|              37|7699602043|\n",
      "+-----+-----+-----------+-------+-----------+----------+----------------+----------+\n",
      "only showing top 20 rows\n",
      "\n"
     ]
    }
   ],
   "source": [
    "draft_timing_spark.show()"
   ]
  },
  {
   "cell_type": "code",
   "execution_count": null,
   "metadata": {
    "application/vnd.databricks.v1+cell": {
     "cellMetadata": {
      "byteLimit": 2048000,
      "rowLimit": 10000
     },
     "inputWidgets": {},
     "nuid": "e8eb6e9d-87ab-4210-95a0-505bd1696295",
     "showTitle": false,
     "title": ""
    }
   },
   "outputs": [
    {
     "name": "stdout",
     "output_type": "stream",
     "text": [
      "+-------+----------+--------+----------+--------+---------+-----------+-------+-----------+-----------+-----------------+-------------+--------------------+-----------------+-----------------------+--------------------+----------------+----------+-------------+---------+-----+------+-------------+----------+---------------+------------------+-------------------+---------------------+------------+------------------+-------------------+------------------+---------------+------------+--------+-----+------+--------+-------+--------------------+------+-------+\n",
      "|version|  match_id|leagueid|start_time|duration|series_id|series_type|cluster|replay_salt|radiant_win|pre_game_duration|match_seq_num|tower_status_radiant|tower_status_dire|barracks_status_radiant|barracks_status_dire|first_blood_time|lobby_type|human_players|game_mode|flags|engine|radiant_score|dire_score|radiant_team_id|      radiant_name|       radiant_logo|radiant_team_complete|dire_team_id|         dire_name|          dire_logo|dire_team_complete|radiant_captain|dire_captain|metadata|patch|region|comeback|  stomp|          replay_url| throw|   loss|\n",
      "+-------+----------+--------+----------+--------+---------+-----------+-------+-----------+-----------+-----------------+-------------+--------------------+-----------------+-----------------------+--------------------+----------------+----------+-------------+---------+-----+------+-------------+----------+---------------+------------------+-------------------+---------------------+------------+------------------+-------------------+------------------+---------------+------------+--------+-----+------+--------+-------+--------------------+------+-------+\n",
      "|     21|7699602043|   16518|1713805862|    2558|   870863|          3|    273|  578609849|      false|               90|   6481674198|                   0|             1972|                      0|                  63|              14|         1|           10|        2|    1|     1|           26|        30|        8599101| Gaimin Gladiators|1850419664501192000|                    1|     8291895|    Tundra Esports|2031716132171968000|                 1|       91730177|   331855530|    null|   54|   3.0|  4939.0|17001.0|http://replay273....|  null|   null|\n",
      "|     21|7699602043|   16518|1713805862|    2558|   870863|          3|    273|  578609849|      false|               90|   6481674198|                   0|             1972|                      0|                  63|              14|         1|           10|        2|    1|     1|           26|        30|        8599101| Gaimin Gladiators|1850419664501192000|                    1|     8291895|    Tundra Esports|2031716132171968000|                 1|       91730177|   331855530|    null|   54|   3.0|  4939.0|17001.0|http://replay273....|  null|   null|\n",
      "|     21|7699601332|   16518|1713805860|    2556|   870862|          3|    274|  508185756|       true|               90|   6481673861|                1974|                4|                     63|                   3|             356|         1|           10|        2|    1|     1|           19|        17|        2586976|                OG| 862855679982709000|                    0|     8261500|     Xtreme Gaming|2023835418754384000|                 1|      346412363|   143693439|    null|   54|   3.0|    null|   null|http://replay274....|1027.0|13228.0|\n",
      "|     21|7699599646|   15899|1713805692|    2777|   870861|          1|    251|  977391617|       true|               90|   6481673936|                1574|                0|                     15|                   3|             448|         1|           10|        2|    1|     1|           28|        21|        8375259|          Infinity|2270441745021468400|                    0|     9352634|          Acatsuki|2532781589097934000|                 0|      177953305|   185001854|    null|   54|  15.0|    null|   null|http://replay251....|1382.0|23176.0|\n",
      "|     21|7699538252|   15901|1713803251|    2674|   870849|          1|    183|   62115482|       true|               90|   6481662562|                   0|              260|                      0|                  51|               0|         1|           10|        2|    1|     1|           48|        39|        9381131|           Uzumaki|2466356199630889500|                    0|     8829924|Rabbits of Revenge|1797522561529266200|                 0|     1691312598|   189817721|    null|   54|   8.0|    null|   null|http://replay183....|9729.0| 4209.0|\n",
      "|     21|7699534164|   15901|1713803119|    1141|   870850|          1|    185| 1807498602|       true|               90|   6481555659|                2047|             1796|                     63|                  59|               0|         1|           10|        2|    5|     1|           40|         7|        9360721|         KIBA ARMS|2425822274344384000|                    0|     8831040|       Ghost Sheep|1812159972016010000|                 0|     1029972951|   917067055|    null|   54|   8.0|    null|   null|http://replay185....| 347.0|24271.0|\n",
      "|     21|7699443041|   15901|1713800224|    1378|   870850|          1|    185|  454176724|      false|               90|   6481491846|                1828|             2046|                     63|                  63|             330|         1|           10|        2|    5|     1|           10|        35|        8831040|       Ghost Sheep|1812159972016010000|                    0|     9360721|         KIBA ARMS|2425822274344384000|                 0|      917067055|  1029972951|    null|   54|   8.0|     0.0|18978.0|http://replay185....|  null|   null|\n",
      "|     21|7699436705|   15901|1713800052|    1892|   870849|          1|    182| 1710068504|       true|               90|   6481500126|                2047|             1540|                     63|                   3|              68|         1|           10|        2|    5|     1|           52|        18|        8829924|Rabbits of Revenge|1797522561529266200|                    0|     9381131|           Uzumaki|2466356199630889500|                 0|      189817721|  1691312598|    null|   54|   8.0|    null|   null|http://replay182....|   0.0|23992.0|\n",
      "|     21|7699381326|   16518|1713798673|    4248|   870835|          3|    272|  150234472|      false|               90|   6481525627|                 256|                0|                     48|                   0|               5|         1|           10|        2|    1|     1|           38|        36|        8255888|      BetBoom Team|2037351993974889200|                    1|           5|           G2 x iG|5951014424046292000|                 1|      317880638|   207829314|    null|   54|   3.0| 17743.0|14582.0|http://replay272....|  null|   null|\n",
      "|     21|7699339315|   16518|1713797581|    1727|   870837|          3|    272|  394953118|       true|               90|   6481424724|                2046|             1540|                     63|                   3|             248|         1|           10|        2|    5|     1|           30|         5|           2163|       Team Liquid|2026094195660244500|                    1|     8597976|             Talon|2028347991408203500|                 1|       86698277|   293904640|    null|   54|   3.0|    null|   null|http://replay272....|   0.0|25903.0|\n",
      "|     21|7699290234|   16518|1713796623|    1944|   870836|          3|    272|  799487148|      false|               90|   6481397828|                1568|             1975|                     44|                  63|              86|         1|           10|        2|    5|     1|           10|        36|        9247354|      Team Falcons|2314350571781870000|                    0|          39| Shopify Rebellion|2009201438099875000|                 1|       10366616|   187824320|    null|   54|   3.0|    94.0|27645.0|http://replay272....|  null|   null|\n",
      "|     21|7699284365|   15901|1713795585|    1250|   870834|          1|    182| 1926948718|      false|               90|   6481339245|                1796|             2038|                     63|                  63|               9|         1|           10|        2|    5|     1|           17|        48|        8831040|       Ghost Sheep|1812159972016010000|                    0|     8829924|Rabbits of Revenge|1797522561529266200|                 0|      917067055|   399588134|    null|   54|   8.0|     0.0|19729.0|http://replay182....|  null|   null|\n",
      "|     21|7699194718|   16518|1713793140|    2409|   870837|          3|    274| 1030154786|       true|               90|   6481307421|                1830|             1024|                     63|                   0|             225|         1|           10|        2|    5|     1|           33|        14|        8597976|             Talon|2028347991408203500|                    1|        2163|       Team Liquid|2026094195660244500|                 1|      293904640|    86698277|    null|   54|   3.0|    null|   null|http://replay274....|3491.0|18462.0|\n",
      "|     21|7699189839|   16518|1713793144|    1635|   870836|          3|    274| 1810458152|      false|               90|   6481278041|                1572|             2038|                     15|                  63|              26|         1|           10|        2|    5|     1|            9|        24|             39| Shopify Rebellion|2009201438099875000|                    1|     9247354|      Team Falcons|2314350571781870000|                 0|      187824320|    10366616|    null|   54|   3.0|   933.0|17995.0|http://replay274....|  null|   null|\n",
      "|     21|7699188045|   16518|1713793155|    3411|   870835|          3|    271| 1203374959|      false|               90|   6481340843|                   0|             2022|                      0|                  63|             300|         1|           10|        2|    1|     1|           23|        29|        8255888|      BetBoom Team|2037351993974889200|                    1|           5|           G2 x iG|5951014424046292000|                 1|      317880638|   207829314|    null|   54|   3.0|  1874.0|20375.0|http://replay271....|  null|   null|\n",
      "|     21|7699178470|   15901|1713792567|    2124|   870834|          1|    187|  204066990|       true|               90|   6481266011|                1926|             1536|                     63|                   0|               7|         1|           10|        2|    5|     1|           33|        27|        8829924|Rabbits of Revenge|1797522561529266200|                    0|     8831040|       Ghost Sheep|1812159972016010000|                 0|      399588134|   917067055|    null|   54|   8.0|    null|   null|http://replay187....|6575.0|16402.0|\n",
      "|     21|7699133303|   16586|1713791401|    2494|   867261|          1|    153| 1670662217|       true|               90|   6481256683|                1958|                0|                     63|                   0|               0|         1|           10|        2|    1|     1|           50|        18|        8360138|      Neon Esports|1905612771137210600|                    1|     8944230| Yangon Galacticos|2450594154253035000|                 0|      108997922|  1125296112|    null|   54|   5.0|    null|   null|http://replay153....|-742.0|32118.0|\n",
      "|     21|7699056337|   16518|1713788826|    1512|   870823|          3|    272|  938475078|       true|               90|   6481150200|                1983|             1540|                     63|                   3|              17|         1|           10|        2|    5|     1|           29|         8|              5|           G2 x iG|5951014424046292000|                    1|        2163|       Team Liquid|2026094195660244500|                 1|      207829314|    86698277|    null|   54|   3.0|    null|   null|http://replay272....|   0.0|17751.0|\n",
      "|     21|7699048973|   15901|1713788436|    1506|   870827|          1|    274| 1465757347|      false|               90|   6481160546|                1574|             2038|                     15|                  63|              46|         1|           10|        2|    5|     1|           20|        47|        9088071|        EYE Gaming|1880842325021945900|                    0|     9360721|         KIBA ARMS|2425822274344384000|                 0|     1609348128|  1029972951|    null|   54|   3.0|   520.0|21219.0|http://replay274....|  null|   null|\n",
      "|     21|7699048962|   15901|1713788435|    1664|   870828|          1|    185| 1112302553|      false|               90|   6481139542|                1796|             2038|                     51|                  63|               4|         1|           10|        2|    5|     1|           11|        55|        9401815|      Elite Eclips|5855316805862754000|                    0|     9395679|  Shinigami Gaming|2499008933815848000|                 0|     1620243459|   131774502|    null|   54|   8.0|  -100.0|22674.0|http://replay185....|  null|   null|\n",
      "+-------+----------+--------+----------+--------+---------+-----------+-------+-----------+-----------+-----------------+-------------+--------------------+-----------------+-----------------------+--------------------+----------------+----------+-------------+---------+-----+------+-------------+----------+---------------+------------------+-------------------+---------------------+------------+------------------+-------------------+------------------+---------------+------------+--------+-----+------+--------+-------+--------------------+------+-------+\n",
      "only showing top 20 rows\n",
      "\n"
     ]
    }
   ],
   "source": [
    "match_details_spark.show()"
   ]
  },
  {
   "cell_type": "code",
   "execution_count": null,
   "metadata": {
    "application/vnd.databricks.v1+cell": {
     "cellMetadata": {
      "byteLimit": 2048000,
      "rowLimit": 10000
     },
     "inputWidgets": {},
     "nuid": "0025259b-98ec-40f4-b7f2-167f865a37fd",
     "showTitle": false,
     "title": ""
    }
   },
   "outputs": [],
   "source": [
    "jdbc_properties = {\n",
    "    \"user\": user,\n",
    "    \"password\": password,\n",
    "    \"driver\": \"org.postgresql.Driver\"\n",
    "}\n",
    "draft_timing_spark.write.jdbc(url=url, table='draft_timing' , mode='append', properties=jdbc_properties)\n",
    "objectives_match_spark.write.jdbc(url=url, table='objectives_match' , mode='append', properties=jdbc_properties)\n",
    "match_stats_spark.write.jdbc(url=url, table='match_stats' , mode='append', properties=jdbc_properties)\n",
    "player_match_spark.write.jdbc(url=url, table='player_match' , mode='append', properties=jdbc_properties)\n",
    "player_item_time_spark.write.jdbc(url=url, table='player_item_time' , mode='append', properties=jdbc_properties)\n",
    "player_stats_time_spark.write.jdbc(url=url, table='player_stats_time' , mode='append', properties=jdbc_properties)"
   ]
  },
  {
   "cell_type": "code",
   "execution_count": null,
   "metadata": {
    "application/vnd.databricks.v1+cell": {
     "cellMetadata": {},
     "inputWidgets": {},
     "nuid": "8fc9c52e-4eae-41c3-92a5-eaa11cd9cb79",
     "showTitle": false,
     "title": ""
    }
   },
   "outputs": [],
   "source": []
  }
 ],
 "metadata": {
  "application/vnd.databricks.v1+notebook": {
   "dashboards": [],
   "language": "python",
   "notebookMetadata": {
    "pythonIndentUnit": 4
   },
   "notebookName": "Untitled Notebook 2024-04-21 14:55:21",
   "widgets": {}
  },
  "kernelspec": {
   "display_name": "Python 3 (ipykernel)",
   "language": "python",
   "name": "python3"
  },
  "language_info": {
   "codemirror_mode": {
    "name": "ipython",
    "version": 3
   },
   "file_extension": ".py",
   "mimetype": "text/x-python",
   "name": "python",
   "nbconvert_exporter": "python",
   "pygments_lexer": "ipython3",
   "version": "3.11.5"
  }
 },
 "nbformat": 4,
 "nbformat_minor": 1
}
